{
 "cells": [
  {
   "cell_type": "markdown",
   "metadata": {},
   "source": [
    "# Informe final\n",
    "\n",
    "### Consigna\n",
    "\n",
    "Te presentamos los pasos a seguir para realizar el proyecto 04.\n",
    "\n",
    "1. **Elige tu punto de partida entre dos opciones**:\n",
    "\n",
    "    + Tus Proyectos 01 y 02\n",
    "\n",
    "    + Tu Proyecto 03\n",
    "    \n",
    "    Si corresponde, emprolija lo hecho hasta el momento, incorporando las correcciones y/o sugerencias que hayas recibido de tu(s) evaluador/a (es/as).\n",
    "\n",
    "2. **Formula una nueva pregunta, problema o desafío para explorar**. \n",
    "\n",
    "3. **Prueba un modelo de Machine Learning nuevo que no hayas visto en la carrera**. En ese caso, debes explicar su funcionamiento y por qué consideras apropiado aplicarlo. La ganancia no necesariamente tiene que ser en desempeño, también puede ser en interpretabilidad o aplicabilidad.\n",
    "\n",
    "4. **Agrega al proyecto información de otra fuente**. ¡Es sumamente válido! En ese caso, debe estar claramente explicado cómo conseguiste esos datos y qué usos esperas darles. Los datos deben ser accesibles por tu evaluador/a (por ejemplo, puedes subirlos al repositorio). Presta atención a la sensibilidad y privacidad de los datos antes de compartirlos.\n",
    "\n",
    "5. **Continúa el Análisis Exploratorio de Datos**. Recuerda que es tan importante como entrenar un modelo de Machine Learning.\n",
    "\n",
    "6. **Sigue las sugerencias que te propusimos en los notebooks** para continuar el Proyecto 03.\n",
    "\n",
    "Plantea un objetivo *alcanzable*. En esta etapa de tu formación, es preferible un problema sencillo bien abordado que uno ambicioso que no sabes cómo abordar. El objetivo debe estar correctamente explicitado. Debes explicar qué quieres hacer y qué esperas encontrar. Imagina que es una tarea en tu trabajo y tienes que explicarle a un/a jefe/a qué vas a hacer y por qué."
   ]
  },
  {
   "cell_type": "markdown",
   "metadata": {},
   "source": [
    "## NLP - Análisis de sentimiento con SpaCy\n",
    "\n",
    "En este Trabajo Final voy a utilizar SpaCy para entrenar primero un modelo que pueda predecir el puntaje que se le da a un texto (multiclase), y luego un modelo que determine si un texto tiene un sentimiento positivo o negativo (binario). El objetivo es ver si esta librería logra **mejorar los puntajes obtenidos en el TP 3**, especialmente en la clasificación multiclase.\n",
    "\n",
    "SpaCy es una de las librerías de software para procesamiento de lenguajes naturales más completas, que provee todo tipo de algoritmos y resuelve por sí sola todas las etapas necesarias para NLP: \n",
    "\n",
    "* Tokenización\n",
    "\n",
    "* Lematización\n",
    "\n",
    "* Etiquetado gramatical\n",
    "\n",
    "* Reconocimiento de entidades\n",
    "\n",
    "* Análisis de dependencias\n",
    "\n",
    "* Reconocimiento de oraciones\n",
    "\n",
    "* Vectorización de palabras\n",
    "\n",
    "* Limpieza y normalización de textos\n",
    "\n",
    "SpaCy está diseñado específicamente para su uso en producción y ayuda a construir aplicaciones que procesan y \"entienden\" grandes volúmenes de texto. Puede utilizarse para crear sistemas de extracción de información o de comprensión del lenguaje natural, o para preprocesar texto para el aprendizaje profundo.\n",
    "\n",
    "\n",
    "### Pasos a seguir\n",
    "\n",
    "El trabajo se va a dividir en dos grandes unidades, cada uno con sus procesos a realizar:\n",
    "\n",
    "#### 1. **Modelado con scikit-learn**. \n",
    "   \n",
    "   \n",
    "En primer término, voy a utilizar como benchmark parte de lo realizado en el Trabajo 3, y para ello voy a reutilizar algoritmos de clasificación de scikit-learn. En este punto, habrá que:\n",
    "   \n",
    "   \n",
    "   + **Exploración y transformación del dataset**. En este paso se importará el dataset como un dataframe de Pandas y se verán las características generales del mismo, además de agregar nuevas features si fuese necesario.\n",
    "   \n",
    "   \n",
    "   + **Normalización y tokenización**. La tokenización es el proceso de dividir trozos de texto en partes más pequeñas. En este paso se simplificará al dataset, convirtiendolo en una \"bolsa de palabras\", extrayendo las raíces de cada palabra si fuera posible y eliminando las que no aportan mayor información.\n",
    "   \n",
    "    \n",
    "   + **Vectorización**. La vectorización es un proceso que transforma un token en un vector, o una matriz numérica que es única y representa varias características de un token. Los vectores se utilizan para encontrar similitudes entre palabras, clasificar textos y realizar otras operaciones de NLP.\n",
    "   \n",
    "   \n",
    "   + **Clasificación**. El último paso es entrenar un modelo de clasificación con un algoritmo de Machine Learning. \n",
    "\n",
    "#### 2. **Modelado con SpaCy**. \n",
    "   \n",
    "   Voy a usar la librería SpaCy para comparar los resultados con los obtenidos en el benchmark. Para ello, los pasos a seguir son:\n",
    "   \n",
    "   + **Exploración y transformación del dataset**. Este paso consiste en definir una función que convierta el dataset en el formato adecuado para entrenar un clasificador en SpaCy. Además, hay que procurar las muestras de entrenamiento y testeo.\n",
    "   \n",
    "   \n",
    "   + **Evaluación**. Hay que definir una función de evaluación que muestre cómo \"aprende\" el modelo en cada iteración, aunque también voy a usar las métricas de evaluación provistas por scikit-learn para poder comparar con el benchmark.\n",
    "   \n",
    "   \n",
    "   + **Entrenamiento del modelo**. SpaCy incluye una serie de modelos preentrenados en una vasta cantidad de idiomas, y un pipeline con todos los pasos a realizar para ejecutar tareas de clasificación en machine learning. Para este trabajo, hay que definir una función que entrene y actualice el modelo de SpaCy con las etiquetas que se quieren predecir, incorporadas al corpus de documentos que se van a utilizar, porque si se usara únicamente el que trae por defecto la librería los resultados no van a ser tan buenos. Se trata, en definitiva, de un *aprendizaje de transferencia* (Transfer learning)."
   ]
  },
  {
   "cell_type": "markdown",
   "metadata": {},
   "source": [
    "## Exploración del Dataset\n",
    "\n",
    "El primer paso es cargar los sets de datos. Voy a utilizar las Reviews de Amazon del trabajo anterior [(se pueden descargar aquí)](https://github.com/kang205/SASRec), que ya están bien curados, pero únicamente voy a cargar el set de train."
   ]
  },
  {
   "cell_type": "code",
   "execution_count": 1,
   "metadata": {},
   "outputs": [],
   "source": [
    "#Importar las librerías para comenzar a explorar el dataset\n",
    "\n",
    "import pandas as pd\n",
    "import numpy as np\n",
    "import matplotlib.pyplot as plt\n",
    "import seaborn as sns\n",
    "sns.set()"
   ]
  },
  {
   "cell_type": "code",
   "execution_count": 2,
   "metadata": {},
   "outputs": [
    {
     "data": {
      "text/html": [
       "<div>\n",
       "<style scoped>\n",
       "    .dataframe tbody tr th:only-of-type {\n",
       "        vertical-align: middle;\n",
       "    }\n",
       "\n",
       "    .dataframe tbody tr th {\n",
       "        vertical-align: top;\n",
       "    }\n",
       "\n",
       "    .dataframe thead th {\n",
       "        text-align: right;\n",
       "    }\n",
       "</style>\n",
       "<table border=\"1\" class=\"dataframe\">\n",
       "  <thead>\n",
       "    <tr style=\"text-align: right;\">\n",
       "      <th></th>\n",
       "      <th>review_id</th>\n",
       "      <th>product_id</th>\n",
       "      <th>reviewer_id</th>\n",
       "      <th>stars</th>\n",
       "      <th>review_body</th>\n",
       "      <th>review_title</th>\n",
       "      <th>language</th>\n",
       "      <th>product_category</th>\n",
       "    </tr>\n",
       "  </thead>\n",
       "  <tbody>\n",
       "    <tr>\n",
       "      <th>87396</th>\n",
       "      <td>es_0952005</td>\n",
       "      <td>product_es_0830282</td>\n",
       "      <td>reviewer_es_0019631</td>\n",
       "      <td>3</td>\n",
       "      <td>Cuando hace mucho viento, no quita totalmente ...</td>\n",
       "      <td>Buena relación calidad precio</td>\n",
       "      <td>es</td>\n",
       "      <td>musical_instruments</td>\n",
       "    </tr>\n",
       "    <tr>\n",
       "      <th>34033</th>\n",
       "      <td>es_0799013</td>\n",
       "      <td>product_es_0849787</td>\n",
       "      <td>reviewer_es_0945303</td>\n",
       "      <td>1</td>\n",
       "      <td>Es muy raro porque el tarot viene en una caja ...</td>\n",
       "      <td>No está completo</td>\n",
       "      <td>es</td>\n",
       "      <td>toy</td>\n",
       "    </tr>\n",
       "    <tr>\n",
       "      <th>83420</th>\n",
       "      <td>es_0200295</td>\n",
       "      <td>product_es_0307351</td>\n",
       "      <td>reviewer_es_0153090</td>\n",
       "      <td>3</td>\n",
       "      <td>No me atreví a usarlo con el móvil, aunque pro...</td>\n",
       "      <td>Lo usaría para salpicaduras</td>\n",
       "      <td>es</td>\n",
       "      <td>wireless</td>\n",
       "    </tr>\n",
       "    <tr>\n",
       "      <th>78334</th>\n",
       "      <td>es_0280732</td>\n",
       "      <td>product_es_0362001</td>\n",
       "      <td>reviewer_es_0995785</td>\n",
       "      <td>2</td>\n",
       "      <td>Lo tuve que devolver porque es tan grande como...</td>\n",
       "      <td>Es demasiado grande</td>\n",
       "      <td>es</td>\n",
       "      <td>wireless</td>\n",
       "    </tr>\n",
       "    <tr>\n",
       "      <th>150606</th>\n",
       "      <td>es_0394309</td>\n",
       "      <td>product_es_0741861</td>\n",
       "      <td>reviewer_es_0011837</td>\n",
       "      <td>4</td>\n",
       "      <td>Me a encantado son tal cual su descripción.</td>\n",
       "      <td>Envió rápido y en perfecto estado.</td>\n",
       "      <td>es</td>\n",
       "      <td>beauty</td>\n",
       "    </tr>\n",
       "  </tbody>\n",
       "</table>\n",
       "</div>"
      ],
      "text/plain": [
       "         review_id          product_id          reviewer_id  stars  \\\n",
       "87396   es_0952005  product_es_0830282  reviewer_es_0019631      3   \n",
       "34033   es_0799013  product_es_0849787  reviewer_es_0945303      1   \n",
       "83420   es_0200295  product_es_0307351  reviewer_es_0153090      3   \n",
       "78334   es_0280732  product_es_0362001  reviewer_es_0995785      2   \n",
       "150606  es_0394309  product_es_0741861  reviewer_es_0011837      4   \n",
       "\n",
       "                                              review_body  \\\n",
       "87396   Cuando hace mucho viento, no quita totalmente ...   \n",
       "34033   Es muy raro porque el tarot viene en una caja ...   \n",
       "83420   No me atreví a usarlo con el móvil, aunque pro...   \n",
       "78334   Lo tuve que devolver porque es tan grande como...   \n",
       "150606        Me a encantado son tal cual su descripción.   \n",
       "\n",
       "                              review_title language     product_category  \n",
       "87396        Buena relación calidad precio       es  musical_instruments  \n",
       "34033                     No está completo       es                  toy  \n",
       "83420          Lo usaría para salpicaduras       es             wireless  \n",
       "78334                  Es demasiado grande       es             wireless  \n",
       "150606  Envió rápido y en perfecto estado.       es               beauty  "
      ]
     },
     "execution_count": 2,
     "metadata": {},
     "output_type": "execute_result"
    }
   ],
   "source": [
    "df_train = pd.read_json(r'C:\\Users\\dtaub\\Documents\\Data_Science\\proyecto_3\\dataset_es_train.json', lines=True)\n",
    "df_train.sample(5)"
   ]
  },
  {
   "cell_type": "markdown",
   "metadata": {},
   "source": [
    "Los dataframes están compuestos de ocho campos cada uno, con las siguientes características:\n",
    "\n",
    " - review_id: el id de la calificación\n",
    " - product_id: identificación del producto\n",
    " - reviewer_id: id del usuario\n",
    " - stars: la calificación en sí (numérica)\n",
    " - review_body: el texto de la crítica\n",
    " - review_title: título de la crítica\n",
    " - language: en qué lenguaje está escrita la crítica\n",
    " - product_category: categoría del producto"
   ]
  },
  {
   "cell_type": "code",
   "execution_count": 3,
   "metadata": {},
   "outputs": [
    {
     "name": "stdout",
     "output_type": "stream",
     "text": [
      "Tamaño del dataset train: 200000\n"
     ]
    }
   ],
   "source": [
    "print(\"Tamaño del dataset train: \"+str(len(df_train)))"
   ]
  },
  {
   "cell_type": "code",
   "execution_count": 4,
   "metadata": {},
   "outputs": [
    {
     "name": "stdout",
     "output_type": "stream",
     "text": [
      "5    40000\n",
      "4    40000\n",
      "3    40000\n",
      "2    40000\n",
      "1    40000\n",
      "Name: stars, dtype: int64\n"
     ]
    },
    {
     "data": {
      "image/png": "[encoded data removed]",
      "text/plain": [
       "<Figure size 432x288 with 1 Axes>"
      ]
     },
     "metadata": {},
     "output_type": "display_data"
    }
   ],
   "source": [
    "#Distribución de las calificaciones\n",
    "sns.countplot(df_train.stars)\n",
    "print(df_train.stars.value_counts())"
   ]
  },
  {
   "cell_type": "markdown",
   "metadata": {},
   "source": [
    "Las calificaciones van de 1 a 5 y están perfectamente divididas en igual número, 40 mil por cada una en train y 1.000 por cada una en test y dev."
   ]
  },
  {
   "cell_type": "markdown",
   "metadata": {},
   "source": [
    "## Modelo de clasificación con scikit-learn"
   ]
  },
  {
   "cell_type": "markdown",
   "metadata": {},
   "source": [
    "Como primer paso para generar un modelo que pueda predecir la puntuación de un comentario, hay que normalizar y vectorizar los textos, para luego sí poder entrenar el algoritmo de clasificación. Esta etapa SpaCy la resuelve en un solo paso, como se verá más adelante."
   ]
  },
  {
   "cell_type": "code",
   "execution_count": 3,
   "metadata": {},
   "outputs": [],
   "source": [
    "#Importar SpaCy para procesar el dataset de palabras\n",
    "import spacy\n",
    "nlp = spacy.load(\"es_core_news_md\") #Importar el modelo preentrenado de SpaCy"
   ]
  },
  {
   "cell_type": "code",
   "execution_count": 4,
   "metadata": {},
   "outputs": [],
   "source": [
    "#Voy a colocar todos los comentarios, título y texto, en una misma columna\n",
    "df_train[\"review\"] = df_train[\"review_title\"] +\" \"+ df_train[\"review_body\"]"
   ]
  },
  {
   "cell_type": "code",
   "execution_count": 5,
   "metadata": {},
   "outputs": [
    {
     "data": {
      "text/html": [
       "<div>\n",
       "<style scoped>\n",
       "    .dataframe tbody tr th:only-of-type {\n",
       "        vertical-align: middle;\n",
       "    }\n",
       "\n",
       "    .dataframe tbody tr th {\n",
       "        vertical-align: top;\n",
       "    }\n",
       "\n",
       "    .dataframe thead th {\n",
       "        text-align: right;\n",
       "    }\n",
       "</style>\n",
       "<table border=\"1\" class=\"dataframe\">\n",
       "  <thead>\n",
       "    <tr style=\"text-align: right;\">\n",
       "      <th></th>\n",
       "      <th>review_id</th>\n",
       "      <th>product_id</th>\n",
       "      <th>reviewer_id</th>\n",
       "      <th>stars</th>\n",
       "      <th>review_body</th>\n",
       "      <th>review_title</th>\n",
       "      <th>language</th>\n",
       "      <th>product_category</th>\n",
       "      <th>review</th>\n",
       "    </tr>\n",
       "  </thead>\n",
       "  <tbody>\n",
       "    <tr>\n",
       "      <th>51764</th>\n",
       "      <td>es_0524777</td>\n",
       "      <td>product_es_0580464</td>\n",
       "      <td>reviewer_es_0488168</td>\n",
       "      <td>2</td>\n",
       "      <td>Es dura y parece resistente pero en una semana...</td>\n",
       "      <td>Se ensucia rápido</td>\n",
       "      <td>es</td>\n",
       "      <td>wireless</td>\n",
       "      <td>Se ensucia rápido Es dura y parece resistente ...</td>\n",
       "    </tr>\n",
       "    <tr>\n",
       "      <th>96498</th>\n",
       "      <td>es_0481634</td>\n",
       "      <td>product_es_0825493</td>\n",
       "      <td>reviewer_es_0661797</td>\n",
       "      <td>3</td>\n",
       "      <td>Afro, afro no, ya q tiene menos volumen q la d...</td>\n",
       "      <td>Tamaño y calidad pelo buena</td>\n",
       "      <td>es</td>\n",
       "      <td>toy</td>\n",
       "      <td>Tamaño y calidad pelo buena Afro, afro no, ya ...</td>\n",
       "    </tr>\n",
       "    <tr>\n",
       "      <th>70967</th>\n",
       "      <td>es_0735089</td>\n",
       "      <td>product_es_0739270</td>\n",
       "      <td>reviewer_es_0482503</td>\n",
       "      <td>2</td>\n",
       "      <td>Tardó demasiado tiempo en ser entregado</td>\n",
       "      <td>Demasiado tiempo</td>\n",
       "      <td>es</td>\n",
       "      <td>toy</td>\n",
       "      <td>Demasiado tiempo Tardó demasiado tiempo en ser...</td>\n",
       "    </tr>\n",
       "    <tr>\n",
       "      <th>130148</th>\n",
       "      <td>es_0413403</td>\n",
       "      <td>product_es_0135331</td>\n",
       "      <td>reviewer_es_0170698</td>\n",
       "      <td>4</td>\n",
       "      <td>El cristal templado se pegó perfectamente, sin...</td>\n",
       "      <td>Se pegó perfectamente</td>\n",
       "      <td>es</td>\n",
       "      <td>wireless</td>\n",
       "      <td>Se pegó perfectamente El cristal templado se p...</td>\n",
       "    </tr>\n",
       "    <tr>\n",
       "      <th>121087</th>\n",
       "      <td>es_0160371</td>\n",
       "      <td>product_es_0038784</td>\n",
       "      <td>reviewer_es_0551639</td>\n",
       "      <td>4</td>\n",
       "      <td>Un buen regalo para empezar en el mundo del ta...</td>\n",
       "      <td>Práctica sin casi ruido</td>\n",
       "      <td>es</td>\n",
       "      <td>musical_instruments</td>\n",
       "      <td>Práctica sin casi ruido Un buen regalo para em...</td>\n",
       "    </tr>\n",
       "  </tbody>\n",
       "</table>\n",
       "</div>"
      ],
      "text/plain": [
       "         review_id          product_id          reviewer_id  stars  \\\n",
       "51764   es_0524777  product_es_0580464  reviewer_es_0488168      2   \n",
       "96498   es_0481634  product_es_0825493  reviewer_es_0661797      3   \n",
       "70967   es_0735089  product_es_0739270  reviewer_es_0482503      2   \n",
       "130148  es_0413403  product_es_0135331  reviewer_es_0170698      4   \n",
       "121087  es_0160371  product_es_0038784  reviewer_es_0551639      4   \n",
       "\n",
       "                                              review_body  \\\n",
       "51764   Es dura y parece resistente pero en una semana...   \n",
       "96498   Afro, afro no, ya q tiene menos volumen q la d...   \n",
       "70967             Tardó demasiado tiempo en ser entregado   \n",
       "130148  El cristal templado se pegó perfectamente, sin...   \n",
       "121087  Un buen regalo para empezar en el mundo del ta...   \n",
       "\n",
       "                       review_title language     product_category  \\\n",
       "51764             Se ensucia rápido       es             wireless   \n",
       "96498   Tamaño y calidad pelo buena       es                  toy   \n",
       "70967              Demasiado tiempo       es                  toy   \n",
       "130148        Se pegó perfectamente       es             wireless   \n",
       "121087      Práctica sin casi ruido       es  musical_instruments   \n",
       "\n",
       "                                                   review  \n",
       "51764   Se ensucia rápido Es dura y parece resistente ...  \n",
       "96498   Tamaño y calidad pelo buena Afro, afro no, ya ...  \n",
       "70967   Demasiado tiempo Tardó demasiado tiempo en ser...  \n",
       "130148  Se pegó perfectamente El cristal templado se p...  \n",
       "121087  Práctica sin casi ruido Un buen regalo para em...  "
      ]
     },
     "execution_count": 5,
     "metadata": {},
     "output_type": "execute_result"
    }
   ],
   "source": [
    "df_train.sample(5)"
   ]
  },
  {
   "cell_type": "code",
   "execution_count": 6,
   "metadata": {},
   "outputs": [],
   "source": [
    "#Genero un nuevo dataset con solo los features necesarios para este análisis\n",
    "train = df_train[[\"stars\",\"review\"]]"
   ]
  },
  {
   "cell_type": "markdown",
   "metadata": {},
   "source": [
    "Ahora hay que crear una función para normalizar el dataset, para ello se utilizará **Spacy** para tokenizar y lemmatizar."
   ]
  },
  {
   "cell_type": "code",
   "execution_count": 9,
   "metadata": {},
   "outputs": [],
   "source": [
    "def normalize(columna):\n",
    "    normalizada = []\n",
    "    for i in range(columna.shape[0]):\n",
    "        review = columna[i] #seleccionar la review\n",
    "        review = nlp(review)\n",
    "        #tokenizar y lemmatizar con spacy, quitando signos de puntuación y números\n",
    "        review = [tok.lemma_.lower() for tok in review if tok.pos_ != 'PUNCT' and tok.pos_ != 'NUM'] \n",
    "        review=\" \".join(review) #unimos nuevamente la review\n",
    "        normalizada.append(review) #agregar el resultado a la lista\n",
    "    return normalizada"
   ]
  },
  {
   "cell_type": "code",
   "execution_count": 10,
   "metadata": {},
   "outputs": [],
   "source": [
    "#Ahora pasamos el dataset de train por la función\n",
    "train_norm = normalize(train.review)"
   ]
  },
  {
   "cell_type": "code",
   "execution_count": 11,
   "metadata": {},
   "outputs": [
    {
     "data": {
      "text/plain": [
       "['television nevir nada bueno se me ser ka pantalla en menos de mesar y no haber recibir respuesta del fabricante',\n",
       " 'dinero tirar a lo basura con este comprar horrible no tener que comprar otro porque ni nosotros que saber inglés ni uno informático después de uno hora ser capaz de instalarlo',\n",
       " 'solo llegar uno unidad cuando te obligar a comprar te obligar a comprar unidad y te llegar solo uno y no haber formar de reclamar uno autenticar estafar no compreis',\n",
       " 'producto no recibido no entrar en descalificar al vendedor solo poder decir que tras mesar de esperar seguir sin el producto y tener que contactar con amazon parir reclamar su reembolsar amazon uno se hacer cargar del problema pero yo e desembolsar mi dinero y en mesar me el devolver perdida de tiempo total sin palabra y ustedes decidir',\n",
       " 'devuelto llega tardar y co lo tallar equivocar',\n",
       " 'jamás me llegar jamás me llegar y el vendedor nunca contactar conmigo a pesar de intentarlo vez',\n",
       " 'horroroso el paraguas ser de muy malo calidad dar lo sensación que se ir a romper cuando el abrir es muy cutre',\n",
       " 'poco funcional tuve que devolverla porque al ser triangular no se agarrar de formar cómodo parir lo escriturar bonita calidad-precio aceptable pero poco funcional',\n",
       " 'no me llegar estoy esperar despues de protestar varios vez pero ver que no haber solucion y no haceis casar me decir de uno reembolsar pero yo querer el auricular',\n",
       " 'mala calidad defectuoso defectuoso en apariencia muy bien producto pero al 3 usar del vaso mezclador más grande haber dejar de funcionar intentaba hacer uno puré nadar que requerir uno forzar excesivo y los cuchilla dejar de girar una penar porque ser uno herramienta en principiar muy funcional al final el barato salir caro mesar de vida decepcionada']"
      ]
     },
     "execution_count": 11,
     "metadata": {},
     "output_type": "execute_result"
    }
   ],
   "source": [
    "#Chequear las primeras 10 entradas\n",
    "train_norm[:10]"
   ]
  },
  {
   "cell_type": "code",
   "execution_count": 12,
   "metadata": {},
   "outputs": [],
   "source": [
    "#Por el tiempo que tomó normalizar, voy a generar un dataframe para poder exortar como csv\n",
    "df_train_norm = pd.DataFrame({'reviews': train_norm,'stars': train.stars})\n",
    "\n",
    "#Exporto a CSV\n",
    "path = \"C:\\\\Users\\\\dtaub\\\\Documents\\\\Data_Science\\\\TP Final\\\\df_train_norm.csv\"\n",
    "df_train_norm.to_csv(path, index=False, encoding = 'utf8')"
   ]
  },
  {
   "cell_type": "code",
   "execution_count": 2,
   "metadata": {},
   "outputs": [],
   "source": [
    "path = \"C:\\\\Users\\\\dtaub\\\\Documents\\\\Data_Science\\\\TP Final\\\\df_train_norm.csv\"\n",
    "df_train_norm = pd.read_csv(path, encoding = 'utf8')"
   ]
  },
  {
   "cell_type": "markdown",
   "metadata": {},
   "source": [
    "**Vectorizar**\n",
    "\n",
    "Hasta ahora, tengo una **\"bolsa de palabras\"** (\"bag of words\"), pero hay que representarlas como un vector numérico para poder modelar un algoritmo de clasificación. Para este paso se utilizará la función CountVectorizer de Scikit-Learn, que permite representar cada vector con un 1 en las palabras que contiene y un 0 en las que no. Para simplificar la tarea y descartar errores, se vectorizarán únicamente las palabras que más veces aparecen en el corpus."
   ]
  },
  {
   "cell_type": "code",
   "execution_count": 158,
   "metadata": {},
   "outputs": [],
   "source": [
    "#Importar el algoritmo\n",
    "from sklearn.feature_extraction.text import CountVectorizer"
   ]
  },
  {
   "cell_type": "code",
   "execution_count": 4,
   "metadata": {},
   "outputs": [],
   "source": [
    "# Voy a utilizar solo las 5000 palabras con más frecuencia en todo el corpus para generar los vectores\n",
    "#Esto se hace para eliminar palabras que aparecen poco y descartar errores\n",
    "\n",
    "max_features=5000\n",
    "\n",
    "#Es decir que cada instancia tendrá 5000 features\n",
    "\n",
    "#Instanciado con n-gram de 1 a 3, que dio un mejor resultado en el trabajo anterior\n",
    "cv=CountVectorizer(max_features=max_features, ngram_range=(1,3))"
   ]
  },
  {
   "cell_type": "code",
   "execution_count": 5,
   "metadata": {},
   "outputs": [],
   "source": [
    "#Entrenar y transformar el set\n",
    "train_vec = cv.fit_transform(df_train_norm.reviews)"
   ]
  },
  {
   "cell_type": "code",
   "execution_count": 6,
   "metadata": {},
   "outputs": [
    {
     "name": "stdout",
     "output_type": "stream",
     "text": [
      "50 palabras al azar:  ['quedan', 'haber devolver', 'de este producto', 'por todo', 'que amazon', 'fácil de', 'de noche', 'ser caro', 'más tardar', 'quedo muy', 'lo temperatura', 'igual que', 'mediar', 'perfectamente el', 'lo pintura', 'en mal estar', 'el hemo', 'ser muy', 'uno fundir', 'el demás bien', 'tender', 'ser demasiar grande', 'único pegar ser', 'bien la', 'llenar', 'no ser bueno', 'pobre', 'preciar no', 'pero no', 'sonar', 'embalar', 'discreto', 'ya que', 'parir limpiar', 'usar por', 'el montaje', 'probar con', 'lo devolver', 'no merecer lo', 'este producto no', 'pero tener uno', 'cumple', 'gancho', 'con uno', 'ya que ser', 'lo muñeca', 'suponer', 'el producto no', 'estar en', 'movil']\n"
     ]
    }
   ],
   "source": [
    "#Vamos a chequear algunas de las palabras que fueron vectorizadas\n",
    "#Para ello, se toman del vector las palabras\n",
    "\n",
    "all_words = cv.get_feature_names()\n",
    "\n",
    "#Luego, se vizualisan 50 palabras del set de manera aleatoria\n",
    "import random\n",
    "print(\"50 palabras al azar: \",random.sample(all_words, 50))"
   ]
  },
  {
   "cell_type": "code",
   "execution_count": 163,
   "metadata": {},
   "outputs": [],
   "source": [
    "#Ahora, hay que separar los datos en entrenamiento y test.\n",
    "from sklearn.model_selection import train_test_split"
   ]
  },
  {
   "cell_type": "code",
   "execution_count": null,
   "metadata": {},
   "outputs": [],
   "source": [
    "x_train, x_test, y_train, y_test = train_test_split(train_vec.toarray(), \n",
    "                                                    df_train_norm.stars, \n",
    "                                                    test_size=0.25, \n",
    "                                                    random_state=42)"
   ]
  },
  {
   "cell_type": "markdown",
   "metadata": {},
   "source": [
    "**Modelar**\n",
    "\n",
    "Ahora sí, voy a modelar un sistema de clasificación como benchmark.  Para medir el desempeño voy a usar el **Score** propio del algoritmo, que calcula la precisión media, comparando las etiquetas predichas con las verdaderas. El puntaje varía de 0 a 1, siendo 1 el número que se obtiene si todas las etiquetas coinciden.\n",
    "\n",
    "También la métrica **F1-Score**, que puede interpretarse como una media ponderada entre la **precisión** (proporción de todas las predicciones positivas que son correctas - exactitud) y la **sensibilidad** (proporción de observaciones positivas reales que se predijeron correctamente - exhaustividad), donde la puntuación F1 alcanza su mejor valor en 1 y la peor puntuación en 0. \n",
    "\n",
    "Por último, voy a graficar una **Matriz de Confusión**, en la que cada columna de la matriz representa el número de predicciones de cada clase, mientras que cada fila representa a las instancias en la clase real. Esta gráfica facilita ver si el sistema está confundiendo dos clases.\n",
    "\n",
    "El algoritmo a usar será uno de soporte vectorial (**Support Vector Classification**), que fue el que mejor resultado dio en el [trabajo anterior](https://github.com/elcarpogh/Proyecto-NLP)."
   ]
  },
  {
   "cell_type": "code",
   "execution_count": 162,
   "metadata": {},
   "outputs": [],
   "source": [
    "#Importo las librerías\n",
    "from sklearn.metrics import plot_confusion_matrix,classification_report\n",
    "from sklearn.svm import LinearSVC"
   ]
  },
  {
   "cell_type": "code",
   "execution_count": 9,
   "metadata": {},
   "outputs": [
    {
     "name": "stdout",
     "output_type": "stream",
     "text": [
      "Precisión:  0.5457\n"
     ]
    }
   ],
   "source": [
    "#Instancio el algoritmo \n",
    "svc = LinearSVC(max_iter=4000,random_state=0,dual=False)\n",
    "\n",
    "#Entrenar\n",
    "svc.fit(x_train,y_train)\n",
    "\n",
    "#Ver la precisión tras el entrenamiento\n",
    "print(\"Precisión: \", svc.score(x_test,y_test))"
   ]
  },
  {
   "cell_type": "code",
   "execution_count": 10,
   "metadata": {},
   "outputs": [
    {
     "name": "stdout",
     "output_type": "stream",
     "text": [
      "              precision    recall  f1-score   support\n",
      "\n",
      "           1       0.64      0.74      0.69      9953\n",
      "           2       0.47      0.42      0.44      9936\n",
      "           3       0.46      0.40      0.43      9962\n",
      "           4       0.49      0.43      0.46     10012\n",
      "           5       0.62      0.74      0.67     10137\n",
      "\n",
      "    accuracy                           0.55     50000\n",
      "   macro avg       0.53      0.55      0.54     50000\n",
      "weighted avg       0.53      0.55      0.54     50000\n",
      "\n"
     ]
    }
   ],
   "source": [
    "#A ver qué ocurre con el F1-Score\n",
    "y_pred = svc.predict(x_test) #Predecir\n",
    "\n",
    "#Imprimir el score\n",
    "print(classification_report(y_test, y_pred))"
   ]
  },
  {
   "cell_type": "markdown",
   "metadata": {},
   "source": [
    "Puede verse en este ejemplo que la exactitud  es bastante pareja en todas las etiquetas, mientras que la sensibilidad es mayor con las etiquetas de los extremos. Como se observó en el trabajo anterior, esto da la pista de que es más conveniente convertir el dataset en un problema binario de clasificación."
   ]
  },
  {
   "cell_type": "code",
   "execution_count": 11,
   "metadata": {},
   "outputs": [
    {
     "data": {
      "image/png": "[encoded data removed]",
      "text/plain": [
       "<Figure size 720x720 with 2 Axes>"
      ]
     },
     "metadata": {},
     "output_type": "display_data"
    }
   ],
   "source": [
    "#Gráfico de matriz de confusión\n",
    "fig, ax = plt.subplots(figsize=(10, 10))\n",
    "cm = plot_confusion_matrix(svc, x_test, y_test, ax=ax)\n",
    "fig.suptitle(\"Matriz de confusión\")\n",
    "plt.grid(False)\n",
    "plt.show()"
   ]
  },
  {
   "cell_type": "markdown",
   "metadata": {},
   "source": [
    "En la matriz queda claro que la predicción de las etiquetas de los extremos es bastante mejor que las intermedias. "
   ]
  },
  {
   "cell_type": "markdown",
   "metadata": {},
   "source": [
    "**Clasificación binaria**\n",
    "\n",
    "Para encarar el problema de clasificación como uno **binario** hay que dividir el dataset en dos grandes grupos de reviews **\"positivas\"** y **\"negativas\"**. Para ello, se toman las reviews calificadas con \"1\" y \"2\" para el set de \"negativas\" y las calificadas con \"4\" y \"5\" para el set de \"positivas\". Se van a descartar en esta etapa aquellas reviews con calificación de \"3\", por ser demasiado ambiguas para este análisis. Asimismo, voy a calificar con \"0\" a las reviews negativas y con \"1\" a las positivas."
   ]
  },
  {
   "cell_type": "code",
   "execution_count": 154,
   "metadata": {},
   "outputs": [],
   "source": [
    "#Cargo nuevamente el set\n",
    "df_train_norm = pd.read_csv(\"C:\\\\Users\\\\dtaub\\\\Documents\\\\Data_Science\\\\TP Final\\\\df_train_norm.csv\")"
   ]
  },
  {
   "cell_type": "code",
   "execution_count": 155,
   "metadata": {},
   "outputs": [],
   "source": [
    "#Separo los sets en \"positivos\" y \"negativos\"\n",
    "train_neg = df_train_norm[(df_train_norm.stars == 1)|(df_train_norm.stars == 2)]\n",
    "train_pos = df_train_norm[(df_train_norm.stars == 4)|(df_train_norm.stars == 5)]"
   ]
  },
  {
   "cell_type": "code",
   "execution_count": 156,
   "metadata": {},
   "outputs": [
    {
     "name": "stderr",
     "output_type": "stream",
     "text": [
      "<ipython-input-156-9a283be08054>:2: SettingWithCopyWarning: \n",
      "A value is trying to be set on a copy of a slice from a DataFrame.\n",
      "Try using .loc[row_indexer,col_indexer] = value instead\n",
      "\n",
      "See the caveats in the documentation: https://pandas.pydata.org/pandas-docs/stable/user_guide/indexing.html#returning-a-view-versus-a-copy\n",
      "  train_neg[\"sentiment\"] = np.zeros((len(train_neg,)),dtype=int)\n",
      "<ipython-input-156-9a283be08054>:3: SettingWithCopyWarning: \n",
      "A value is trying to be set on a copy of a slice from a DataFrame.\n",
      "Try using .loc[row_indexer,col_indexer] = value instead\n",
      "\n",
      "See the caveats in the documentation: https://pandas.pydata.org/pandas-docs/stable/user_guide/indexing.html#returning-a-view-versus-a-copy\n",
      "  train_pos[\"sentiment\"] = np.ones((len(train_pos,)),dtype=int)\n"
     ]
    }
   ],
   "source": [
    "#Agrego una columna de \"0\" o de \"1\" a cada dataset, según sea el caso\n",
    "train_neg[\"sentiment\"] = np.zeros((len(train_neg,)),dtype=int)\n",
    "train_pos[\"sentiment\"] = np.ones((len(train_pos,)),dtype=int)"
   ]
  },
  {
   "cell_type": "code",
   "execution_count": 157,
   "metadata": {},
   "outputs": [],
   "source": [
    "#genero el nuevo set\n",
    "train_bi = pd.concat([train_pos, train_neg])"
   ]
  },
  {
   "cell_type": "code",
   "execution_count": 8,
   "metadata": {},
   "outputs": [],
   "source": [
    "#Exporto el datasets como csv\n",
    "path = \"C:\\\\Users\\\\dtaub\\\\Documents\\\\Data_Science\\\\TP Final\\\\train_bi.csv\"\n",
    "train_bi.to_csv(path, index=False, encoding = 'utf8')"
   ]
  },
  {
   "cell_type": "code",
   "execution_count": 2,
   "metadata": {},
   "outputs": [],
   "source": [
    "#Vuelvo a cargarlo\n",
    "path = \"C:\\\\Users\\\\dtaub\\\\Documents\\\\Data_Science\\\\TP Final\\\\train_bi.csv\"\n",
    "train_bi = pd.read_csv(path, encoding = 'utf8')"
   ]
  },
  {
   "cell_type": "code",
   "execution_count": 159,
   "metadata": {},
   "outputs": [],
   "source": [
    "# Nuevamente voy a utilizar solo las 5000 palabras con más frecuencia en todo el corpus para generar los vectores\n",
    "\n",
    "max_features=5000\n",
    "\n",
    "#Instancio con n-gram de 1 a 3\n",
    "cv=CountVectorizer(max_features=max_features, ngram_range=(1,3))"
   ]
  },
  {
   "cell_type": "code",
   "execution_count": 160,
   "metadata": {},
   "outputs": [],
   "source": [
    "#Entrenar y transformar el set\n",
    "train_vec = cv.fit_transform(train_bi.reviews)"
   ]
  },
  {
   "cell_type": "code",
   "execution_count": 164,
   "metadata": {},
   "outputs": [],
   "source": [
    "#Ahora, separo los datos en entrenamiento y test.\n",
    "x_train, x_test, y_train, y_test = train_test_split(train_vec.toarray(), \n",
    "                                                    train_bi.sentiment, \n",
    "                                                    test_size=0.25, \n",
    "                                                    random_state=42)"
   ]
  },
  {
   "cell_type": "code",
   "execution_count": 165,
   "metadata": {},
   "outputs": [
    {
     "name": "stdout",
     "output_type": "stream",
     "text": [
      "Precisión:  0.925825\n"
     ]
    }
   ],
   "source": [
    "#A ver cómo responde el algoritmo de SVC\n",
    "\n",
    "svc_bi = LinearSVC(C=1,random_state=1,dual=False)\n",
    "svc_bi.fit(x_train,y_train)\n",
    "\n",
    "print(\"Precisión: \", svc_bi.score(x_test,y_test))"
   ]
  },
  {
   "cell_type": "code",
   "execution_count": 166,
   "metadata": {},
   "outputs": [
    {
     "name": "stdout",
     "output_type": "stream",
     "text": [
      "              precision    recall  f1-score   support\n",
      "\n",
      "           0       0.93      0.93      0.93     20155\n",
      "           1       0.92      0.93      0.93     19845\n",
      "\n",
      "    accuracy                           0.93     40000\n",
      "   macro avg       0.93      0.93      0.93     40000\n",
      "weighted avg       0.93      0.93      0.93     40000\n",
      "\n"
     ]
    }
   ],
   "source": [
    "#Calculo el F1-Score\n",
    "y_pred = svc_bi.predict(x_test) #Predecir\n",
    "\n",
    "#Imprimir el score\n",
    "print(classification_report(y_test, y_pred))"
   ]
  },
  {
   "cell_type": "markdown",
   "metadata": {},
   "source": [
    "Al convertirlo en un problema binario, los puntajes resultan ser **increíblemente superiores** al ejemplo visto anteriormente."
   ]
  },
  {
   "cell_type": "code",
   "execution_count": 14,
   "metadata": {},
   "outputs": [
    {
     "data": {
      "image/png": "[encoded data removed]",
      "text/plain": [
       "<Figure size 720x720 with 2 Axes>"
      ]
     },
     "metadata": {},
     "output_type": "display_data"
    }
   ],
   "source": [
    "#Grafico una matriz de confusión\n",
    "fig, ax = plt.subplots(figsize=(10, 10))\n",
    "cm = plot_confusion_matrix(svc_bi, x_test, y_test, ax=ax)\n",
    "fig.suptitle(\"Matriz de confusión\")\n",
    "plt.grid(False)\n",
    "plt.show()"
   ]
  },
  {
   "cell_type": "markdown",
   "metadata": {},
   "source": [
    "Como se puede observar, aumenta notablemente la cantidad de **aciertos** en la predicción de etiquetas con este formato."
   ]
  },
  {
   "cell_type": "markdown",
   "metadata": {},
   "source": [
    "## Modelo de clasificación con SpaCy"
   ]
  },
  {
   "cell_type": "markdown",
   "metadata": {},
   "source": [
    "Ahora sí, voy a usar SpaCy para encarar el mismo problema de clasificación. Las **ventajas** de usar esta librería son múltiples: al estar dedicada completamente a NLP, las tiempos de entrenamiento y procesamiento son menores. Además, no se pierde **interpretabilidad**. Una **desventaja**, sin embargo, es que el proceso de preparación del dataset es más tedioso.\n",
    "\n",
    "En el ejemplo anterior de benchmark, se usó SpaCy para tokenizar y lemmatizar, pero la verdader potencia de SpaCy radica en su uso para tareas de **clasificación**, **reconocimiento de entidades** y **análisis de dependencias**, entre otras."
   ]
  },
  {
   "cell_type": "code",
   "execution_count": 2,
   "metadata": {},
   "outputs": [],
   "source": [
    "#Vuelvo a cargar el dataset \n",
    "df_train = pd.read_json(r'C:\\Users\\dtaub\\Documents\\Data_Science\\proyecto_3\\dataset_es_train.json', lines=True)"
   ]
  },
  {
   "cell_type": "code",
   "execution_count": 3,
   "metadata": {},
   "outputs": [],
   "source": [
    "#Cargo titulo y textto de la review en una misma columna\n",
    "df_train[\"review\"] = df_train[\"review_title\"] +\" \"+ df_train[\"review_body\"]"
   ]
  },
  {
   "cell_type": "markdown",
   "metadata": {},
   "source": [
    "Si bien SpaCy trae un modelo entrenado, para tener más **precisión** en la predicción vamos a entrenarlo con el set de datos y las etiquetas que queremos predecir. SpaCy necesita que el dataset tenga **un formato de tipo Json**, en la que cada entrada tiene que tener todas las categorías que voy a usar, con un \"verdadero\" o \"falso\" en cada una. Entonces, el primer paso es generar una función para darle este formato. \n",
    "\n",
    "Esta función también va a separar el set en uno de entrenamiento y otro de testeo, mezclando las entradas de forma aleatoria."
   ]
  },
  {
   "cell_type": "code",
   "execution_count": 4,
   "metadata": {},
   "outputs": [],
   "source": [
    "import random\n",
    "\n",
    "def load_data(limit=0, split=0.75):\n",
    "    stars = pd.get_dummies(df_train.stars) #Hago un one hot encoding para poner \"1\" y \"0\" en cada uno de los 5 labels\n",
    "    cats_dict = stars.to_dict(orient='records') #Reordeno el set\n",
    "    cats_dict = [{str(key) : val for key, val in sub.items()} #SpaCy necesita que la etiqueta sea un string\n",
    "               for sub in cats_dict] \n",
    "    train_data = list(zip(df_train.review,[{'cats': cats} for cats in cats_dict]))\n",
    "    \n",
    "    # Mezclar la data\n",
    "    random.shuffle(train_data)\n",
    "    texts, labels = zip(*train_data)\n",
    "    \n",
    "    # Separando la data en entrenamiento y test\n",
    "    split = int(len(train_data) * split)\n",
    "    return (texts[:split], labels[:split]), (texts[split:], labels[split:])"
   ]
  },
  {
   "cell_type": "code",
   "execution_count": 5,
   "metadata": {},
   "outputs": [],
   "source": [
    "#Vuelvo a cargar SpaCy con el modelo en español\n",
    "import spacy\n",
    "nlp = spacy.load(\"es_core_news_md\")"
   ]
  },
  {
   "cell_type": "code",
   "execution_count": 6,
   "metadata": {},
   "outputs": [
    {
     "data": {
      "text/plain": [
       "['tagger', 'parser', 'ner']"
      ]
     },
     "execution_count": 6,
     "metadata": {},
     "output_type": "execute_result"
    }
   ],
   "source": [
    "#Chequeo qué elementos tiene en el pipeline\n",
    "nlp.pipe_names"
   ]
  },
  {
   "cell_type": "markdown",
   "metadata": {},
   "source": [
    "Voy a agregarle al pipeline de SpaCy la función para predecir las categorías. El categorizador puede instanciarse con varios algoritmos distintos de machine learning, para este trabajo lo voy a configurar con un algoritmo de red neuronal convolucional (cnn), que viene incluído en la librería. "
   ]
  },
  {
   "cell_type": "code",
   "execution_count": 7,
   "metadata": {},
   "outputs": [
    {
     "data": {
      "text/plain": [
       "['tagger', 'parser', 'ner', 'textcat']"
      ]
     },
     "execution_count": 7,
     "metadata": {},
     "output_type": "execute_result"
    }
   ],
   "source": [
    "#Instancio el categorizador\n",
    "textcat = nlp.create_pipe( \"textcat\", config={\"exclusive_classes\": True, \"architecture\": \"simple_cnn\"})\n",
    "#Lo agrego al pipeline\n",
    "nlp.add_pipe(textcat, last=True)\n",
    "#Confirmo que se haya creado correctamente\n",
    "nlp.pipe_names"
   ]
  },
  {
   "cell_type": "code",
   "execution_count": 8,
   "metadata": {},
   "outputs": [
    {
     "data": {
      "text/plain": [
       "[1, 1, 1, 1, 1]"
      ]
     },
     "execution_count": 8,
     "metadata": {},
     "output_type": "execute_result"
    }
   ],
   "source": [
    "#Agrego las etiquetas que voy a querer que evalúe el modelo\n",
    "textcat_labels = [\"1\",\"2\",\"3\",\"4\",\"5\"]\n",
    "[textcat.add_label(label) for label in textcat_labels]"
   ]
  },
  {
   "cell_type": "markdown",
   "metadata": {},
   "source": [
    "Ahora defino una función de evaluación. Esta función va a servir para ver cómo está respondiendo SpaCy al entrenamiento, y si está \"mejorando\" en cada iteración o época. \n",
    "\n",
    "Para simplificar, en este problema de clasificación multiclase la métrica que voy a definir en entrenamiento es una métrica sencilla de accuracy o precisión, que simplemente calcula el **porcentaje de aciertos sobre el total de muestras**, sin importar a qué etiqueta pertenecen. "
   ]
  },
  {
   "cell_type": "code",
   "execution_count": 114,
   "metadata": {},
   "outputs": [],
   "source": [
    "#Función de evaluación\n",
    "\n",
    "def evaluate(tokenizer, textcat, texts, cats):\n",
    "    docs = (tokenizer(text) for text in texts)\n",
    "    tp = 0.0  # Aciertos\n",
    "    tn = 0.0  # No aciertos\n",
    "    for i, doc in enumerate(textcat.pipe(docs)):\n",
    "        #Guarda la etiqueta de test\n",
    "        gold = [max({**a}, key = lambda key: {**a}[key]) for e, a in cats[i].items()]\n",
    "        #Guarda la etiqueta predicha\n",
    "        score = max(doc.cats, key=lambda key: doc.cats[key])\n",
    "        #Compara las etiquetas\n",
    "        if score == gold[0]:\n",
    "            tp += 1.0\n",
    "        else:\n",
    "            tn += 1.0\n",
    "    #Calcula el porcentaje        \n",
    "    accuracy = (tp)/(tp+tn)\n",
    "    \n",
    "    return {\"textcat_a\": accuracy}"
   ]
  },
  {
   "cell_type": "markdown",
   "metadata": {},
   "source": [
    "Ahora solo resta preparar el conjunto de datos y comenzar a entrenar"
   ]
  },
  {
   "cell_type": "code",
   "execution_count": 10,
   "metadata": {},
   "outputs": [
    {
     "data": {
      "text/plain": [
       "[('Bonito tutú. El tutu es muy bonito pero la diadema ha llegado rota.',\n",
       "  {'cats': {'1': 0, '2': 1, '3': 0, '4': 0, '5': 0}}),\n",
       " ('Genial!!! Es muy bonito y no me fue nada dificil de montar. Todo venía correctamente y es mas grande de lo que parece. Puede estar perfectamente hasta los 5 meses.',\n",
       "  {'cats': {'1': 0, '2': 0, '3': 0, '4': 0, '5': 1}}),\n",
       " ('Es. Útil Te ayuda mucho a hac',\n",
       "  {'cats': {'1': 0, '2': 0, '3': 0, '4': 1, '5': 0}}),\n",
       " ('Para uso diario Son sencillos pero cumplen para plan batalla',\n",
       "  {'cats': {'1': 0, '2': 0, '3': 1, '4': 0, '5': 0}}),\n",
       " ('Estupenda Funciona perfectamente como indicaban en las instrucciones, pero no le doy las 5 estrellas, pq en avisos de notificaciones de was, no pone el nombre de la persona. Por lo demás genial',\n",
       "  {'cats': {'1': 0, '2': 0, '3': 0, '4': 1, '5': 0}}),\n",
       " ('Regular Al mes fallan la mitad de las teclas',\n",
       "  {'cats': {'1': 1, '2': 0, '3': 0, '4': 0, '5': 0}}),\n",
       " ('Disfraz con publicidad incompleta He comprado este disfraz pensando que venia máscara y la guadaña, y no vienen. Deberian indicarlo. Estoy descontento con la publicidad.',\n",
       "  {'cats': {'1': 1, '2': 0, '3': 0, '4': 0, '5': 0}}),\n",
       " ('Bonitas y originales Muy bonitas. A mi novia le han encantado. Son de mejor que tiene hawkers. Muy recomendables y originales al 100%',\n",
       "  {'cats': {'1': 0, '2': 0, '3': 0, '4': 0, '5': 1}}),\n",
       " ('Tendría que probar con otros pintauñas. No he tenido muy buenos resultados, pienso que la lámpara no tiene bastante potencia. Tendría que probar con otros pintauñas.',\n",
       "  {'cats': {'1': 0, '2': 0, '3': 1, '4': 0, '5': 0}}),\n",
       " ('Buena protección además de bonita estéticamente Lo que me ha gustado más es que los orificios tanto de carga como de audios van cubiertos con una pestaña y evita que se acumule polvo,etc... Lo que menos que no recubre bastante el cristal templado por los bordes.',\n",
       "  {'cats': {'1': 0, '2': 0, '3': 0, '4': 1, '5': 0}})]"
      ]
     },
     "execution_count": 10,
     "metadata": {},
     "output_type": "execute_result"
    }
   ],
   "source": [
    "#Llamo a la función que prepara los datos \n",
    "#Si bien en el set original tengo 200000 datos los voy a limitar a 20 mil por cuestiones de memoria\n",
    "\n",
    "n_limit = 20000\n",
    "(train_texts, train_cats), (dev_texts, dev_cats) = load_data(limit=n_limit)\n",
    "\n",
    "# Le doy a la data de entrenamiento el formato final\n",
    "train_data = list(zip(train_texts,train_cats))\n",
    "train_data[:10]"
   ]
  },
  {
   "cell_type": "markdown",
   "metadata": {},
   "source": [
    "Ahora sí, está todo listo para entrenar el modelo con SpaCy"
   ]
  },
  {
   "cell_type": "code",
   "execution_count": 11,
   "metadata": {},
   "outputs": [],
   "source": [
    "#La cantidad de iteraciones o épocas que va a tener mi entrenamiento\n",
    "n_iter=5"
   ]
  },
  {
   "cell_type": "code",
   "execution_count": 12,
   "metadata": {},
   "outputs": [
    {
     "name": "stdout",
     "output_type": "stream",
     "text": [
      "Entrenando el modelo...\n",
      "LOSS \tACCURACY\n",
      "28.008\t0.563\n",
      "24.203\t0.573\n",
      "23.114\t0.576\n",
      "22.168\t0.577\n",
      "21.566\t0.578\n"
     ]
    }
   ],
   "source": [
    "from spacy.util import minibatch, compounding\n",
    "\n",
    "#Entreno multilabel\n",
    "other_pipes = [pipe for pipe in nlp.pipe_names if pipe != 'textcat'] \n",
    "with nlp.disable_pipes(*other_pipes):  # me aseguro de solo entrenar texcat\n",
    "    \n",
    "    optimizer = nlp.begin_training()\n",
    "\n",
    "    print(\"Entrenando el modelo...\")\n",
    "    print('{:^5}\\t{:^5}'.format('LOSS', 'ACCURACY'))\n",
    "\n",
    "    # Realizar el entrenamiento\n",
    "    for i in range(n_iter):\n",
    "        losses = {}\n",
    "        batches = minibatch(train_data, size=compounding(4., 32., 1.001)) #separa la data en lotes\n",
    "        for batch in batches:\n",
    "            texts, annotations = zip(*batch)\n",
    "            nlp.update(texts, annotations, sgd=optimizer, drop=0.2,\n",
    "                       losses=losses)\n",
    "\n",
    "      # Llama a la función de evaluación e imprime los resultados\n",
    "        with textcat.model.use_params(optimizer.averages):\n",
    "            scores = evaluate(nlp.tokenizer, textcat, dev_texts, dev_cats)\n",
    "        print('{0:.3f}\\t{1:.3f}'  \n",
    "              .format(losses['textcat'], scores['textcat_a']))"
   ]
  },
  {
   "cell_type": "markdown",
   "metadata": {},
   "source": [
    "Luego del entrenamiento, se puede ver que el modelo obtiene un puntaje ligeramente superior al obtenido con el algoritmo de scikit-learn: 0.58 contra 0.55. También se aprecia cómo a medida que pasan las épocas de entrenamiento disminuye la métrica de pérdida (loss), que se define como una **penalidad por una predicción incorrecta**. \n",
    "\n",
    "La **pérdida** es un número que indica qué tan **incorrecta** fue la predicción del modelo en un solo ejemplo. Si la predicción del modelo es perfecta, la pérdida es cero; de lo contrario, la pérdida es mayor. Si bien el número es alto porque se hicieron solamente 5 iteraciones y se usó un 10% del dataset original, se ve claramente cómo va disminuyendo, por lo que al aumentando las iteraciones debería mejorar el modelo, claro que llevaría muchísimo más tiempo."
   ]
  },
  {
   "cell_type": "markdown",
   "metadata": {},
   "source": [
    "Para ver qué tan bien funciona este modelo y poder graficar una matriz de confusión, voy a generar un nuevo dataset  con  datos de testeo completamente nuevos."
   ]
  },
  {
   "cell_type": "code",
   "execution_count": 15,
   "metadata": {},
   "outputs": [],
   "source": [
    "df_test = pd.read_json(r'C:\\Users\\dtaub\\Documents\\Data_Science\\proyecto_3\\dataset_es_test.json', lines=True)"
   ]
  },
  {
   "cell_type": "code",
   "execution_count": 16,
   "metadata": {},
   "outputs": [],
   "source": [
    "#Cargo titulo y textto de la review en una misma columna\n",
    "df_test[\"review\"] = df_test[\"review_title\"] +\" \"+ df_test[\"review_body\"]"
   ]
  },
  {
   "cell_type": "code",
   "execution_count": 18,
   "metadata": {},
   "outputs": [
    {
     "data": {
      "text/plain": [
       "(5000, 9)"
      ]
     },
     "execution_count": 18,
     "metadata": {},
     "output_type": "execute_result"
    }
   ],
   "source": [
    "df_test.shape"
   ]
  },
  {
   "cell_type": "code",
   "execution_count": 59,
   "metadata": {},
   "outputs": [
    {
     "data": {
      "text/html": [
       "<div>\n",
       "<style scoped>\n",
       "    .dataframe tbody tr th:only-of-type {\n",
       "        vertical-align: middle;\n",
       "    }\n",
       "\n",
       "    .dataframe tbody tr th {\n",
       "        vertical-align: top;\n",
       "    }\n",
       "\n",
       "    .dataframe thead th {\n",
       "        text-align: right;\n",
       "    }\n",
       "</style>\n",
       "<table border=\"1\" class=\"dataframe\">\n",
       "  <thead>\n",
       "    <tr style=\"text-align: right;\">\n",
       "      <th></th>\n",
       "      <th>stars</th>\n",
       "      <th>review</th>\n",
       "    </tr>\n",
       "  </thead>\n",
       "  <tbody>\n",
       "    <tr>\n",
       "      <th>4881</th>\n",
       "      <td>5</td>\n",
       "      <td>Calidad/Precio Reloj de diseño bonito yo lo co...</td>\n",
       "    </tr>\n",
       "    <tr>\n",
       "      <th>2945</th>\n",
       "      <td>3</td>\n",
       "      <td>Tapones Tuercas Están bien, Son de plástico no...</td>\n",
       "    </tr>\n",
       "    <tr>\n",
       "      <th>667</th>\n",
       "      <td>1</td>\n",
       "      <td>No me a llegado el producto Nunca me llegó el ...</td>\n",
       "    </tr>\n",
       "    <tr>\n",
       "      <th>2897</th>\n",
       "      <td>3</td>\n",
       "      <td>Encaja perfectamente Encaja perfectamente. Ver...</td>\n",
       "    </tr>\n",
       "    <tr>\n",
       "      <th>4188</th>\n",
       "      <td>5</td>\n",
       "      <td>Todo un acierto Lo tenemos en el baño en veran...</td>\n",
       "    </tr>\n",
       "    <tr>\n",
       "      <th>443</th>\n",
       "      <td>1</td>\n",
       "      <td>Fatal No comprar los globos no duraron ni 1 dí...</td>\n",
       "    </tr>\n",
       "    <tr>\n",
       "      <th>4356</th>\n",
       "      <td>5</td>\n",
       "      <td>Muy buen producto El producto llegó a tiempo y...</td>\n",
       "    </tr>\n",
       "    <tr>\n",
       "      <th>4637</th>\n",
       "      <td>5</td>\n",
       "      <td>Cámara vigilancia Tenía una cámara que no perm...</td>\n",
       "    </tr>\n",
       "    <tr>\n",
       "      <th>2498</th>\n",
       "      <td>3</td>\n",
       "      <td>El limitador de volumen no funciona El product...</td>\n",
       "    </tr>\n",
       "    <tr>\n",
       "      <th>1148</th>\n",
       "      <td>2</td>\n",
       "      <td>Incompatible con una funda Me compré una funda...</td>\n",
       "    </tr>\n",
       "  </tbody>\n",
       "</table>\n",
       "</div>"
      ],
      "text/plain": [
       "      stars                                             review\n",
       "4881      5  Calidad/Precio Reloj de diseño bonito yo lo co...\n",
       "2945      3  Tapones Tuercas Están bien, Son de plástico no...\n",
       "667       1  No me a llegado el producto Nunca me llegó el ...\n",
       "2897      3  Encaja perfectamente Encaja perfectamente. Ver...\n",
       "4188      5  Todo un acierto Lo tenemos en el baño en veran...\n",
       "443       1  Fatal No comprar los globos no duraron ni 1 dí...\n",
       "4356      5  Muy buen producto El producto llegó a tiempo y...\n",
       "4637      5  Cámara vigilancia Tenía una cámara que no perm...\n",
       "2498      3  El limitador de volumen no funciona El product...\n",
       "1148      2  Incompatible con una funda Me compré una funda..."
      ]
     },
     "execution_count": 59,
     "metadata": {},
     "output_type": "execute_result"
    }
   ],
   "source": [
    "#Voy a generar una muestra de 1500 reviews aleatorias para usar como test\n",
    "test = df_test[[\"stars\",\"review\"]].sample(1500)\n",
    "test[:10]"
   ]
  },
  {
   "cell_type": "code",
   "execution_count": 63,
   "metadata": {},
   "outputs": [],
   "source": [
    "# Genero un loop para obtener una lista con las predicciones\n",
    "pred = []\n",
    "for rev in test.review:\n",
    "    doc = nlp(rev)\n",
    "    valor = max(doc.cats, key=lambda key: doc.cats[key])\n",
    "    pred.append(int(valor))"
   ]
  },
  {
   "cell_type": "code",
   "execution_count": 67,
   "metadata": {},
   "outputs": [
    {
     "name": "stdout",
     "output_type": "stream",
     "text": [
      "              precision    recall  f1-score   support\n",
      "\n",
      "           1       0.68      0.79      0.73       294\n",
      "           2       0.50      0.48      0.49       274\n",
      "           3       0.51      0.46      0.49       317\n",
      "           4       0.53      0.39      0.45       312\n",
      "           5       0.64      0.79      0.71       303\n",
      "\n",
      "    accuracy                           0.58      1500\n",
      "   macro avg       0.57      0.58      0.57      1500\n",
      "weighted avg       0.57      0.58      0.57      1500\n",
      "\n"
     ]
    }
   ],
   "source": [
    "#Veamos los scores de este modelo\n",
    "print(classification_report(test.stars, pred))"
   ]
  },
  {
   "cell_type": "markdown",
   "metadata": {},
   "source": [
    "Tal como sucedió con el modelo de Linear SVC, los puntajes se muestran con mayor exactitud en las etiquetas de los extremos, mientras que en las intermedias el modelo parece tener más problemas para clasificar."
   ]
  },
  {
   "cell_type": "code",
   "execution_count": 77,
   "metadata": {},
   "outputs": [
    {
     "data": {
      "image/png": "[encoded data removed]",
      "text/plain": [
       "<Figure size 720x720 with 2 Axes>"
      ]
     },
     "metadata": {},
     "output_type": "display_data"
    }
   ],
   "source": [
    "#Grafico una matriz de confusión\n",
    "from sklearn.metrics import confusion_matrix\n",
    "cm = confusion_matrix(test.stars, pred)\n",
    "fig, ax = plt.subplots(figsize=(10, 10))\n",
    "sns.heatmap(cm, annot=True, fmt='g', ax=ax);\n",
    "\n",
    "ax.set_xlabel('Predicted labels');ax.set_ylabel('True labels'); \n",
    "fig.suptitle(\"Matriz de confusión\")\n",
    "ax.xaxis.set_ticklabels([1,2,3,4,5]); ax.yaxis.set_ticklabels([1,2,3,4,5]);"
   ]
  },
  {
   "cell_type": "markdown",
   "metadata": {},
   "source": [
    "En la matriz de confusión queda en evidencia que la predicción de las etiquetas \"1\" y \"5\" es bastante más precisa que las intermedias."
   ]
  },
  {
   "cell_type": "markdown",
   "metadata": {},
   "source": [
    "Una de las grandes ventajas de SpaCy es que permite probar cómo clasificaría un texto cualquiera que querramos ingresar, sin necesidad de tener que vectorizar como ocurre con el algoritmo de Linear SVC o similares. Por ejemplo:"
   ]
  },
  {
   "cell_type": "code",
   "execution_count": 81,
   "metadata": {},
   "outputs": [
    {
     "name": "stdout",
     "output_type": "stream",
     "text": [
      "Calificación obtenida: 5\n"
     ]
    }
   ],
   "source": [
    "calif_prueba = \"Me gustó el producto. Llegó en tiempo y forma. Lo recomiendo.\"\n",
    "doc = nlp(calif_prueba)\n",
    "valor = max(doc.cats, key=lambda key: doc.cats[key])\n",
    "print(\"Calificación obtenida: \"+str(valor))"
   ]
  },
  {
   "cell_type": "code",
   "execution_count": 84,
   "metadata": {},
   "outputs": [
    {
     "name": "stdout",
     "output_type": "stream",
     "text": [
      "Calificación obtenida: 3\n"
     ]
    }
   ],
   "source": [
    "#Probar con un texto más ambiguo\n",
    "calif_prueba = \"El producto está bien pero no es el color que quería y tardó en llegar.\"\n",
    "doc = nlp(calif_prueba)\n",
    "valor = max(doc.cats, key=lambda key: doc.cats[key])\n",
    "print(\"Calificación obtenida: \"+str(valor))"
   ]
  },
  {
   "cell_type": "markdown",
   "metadata": {},
   "source": [
    "Esto es posible porque SpaCy vectoriza el texto ingresado como una de sus funciones en el pipeline. Este es uno de los factores que lo vuelve tan conveniente. Ejemplo:"
   ]
  },
  {
   "cell_type": "code",
   "execution_count": 85,
   "metadata": {},
   "outputs": [
    {
     "data": {
      "text/plain": [
       "array([-0.02767627,  2.0429187 , -1.4820538 ,  0.11711743, -0.6939938 ,\n",
       "       -0.56216455, -0.16975766,  1.5958326 , -0.78120303,  0.28527397],\n",
       "      dtype=float32)"
      ]
     },
     "execution_count": 85,
     "metadata": {},
     "output_type": "execute_result"
    }
   ],
   "source": [
    "#Mostrar los primeros 10 elementos del vector\n",
    "doc.vector[:10]"
   ]
  },
  {
   "cell_type": "markdown",
   "metadata": {},
   "source": [
    "**Clasificación binaria**\n",
    "\n",
    "Nuevamente, hay que dividir el dataset en dos grandes grupos, y luego adaptar las funciones para darle el formato al texto."
   ]
  },
  {
   "cell_type": "code",
   "execution_count": 86,
   "metadata": {},
   "outputs": [],
   "source": [
    "#Separo los sets en \"positivos\" y \"negativos\"\n",
    "neg = df_train[(df_train.stars == 1)|(df_train.stars == 2)]\n",
    "pos = df_train[(df_train.stars == 4)|(df_train.stars == 5)]"
   ]
  },
  {
   "cell_type": "code",
   "execution_count": 87,
   "metadata": {},
   "outputs": [
    {
     "name": "stderr",
     "output_type": "stream",
     "text": [
      "<ipython-input-87-6b8a6e58e9eb>:2: SettingWithCopyWarning: \n",
      "A value is trying to be set on a copy of a slice from a DataFrame.\n",
      "Try using .loc[row_indexer,col_indexer] = value instead\n",
      "\n",
      "See the caveats in the documentation: https://pandas.pydata.org/pandas-docs/stable/user_guide/indexing.html#returning-a-view-versus-a-copy\n",
      "  neg[\"sentiment\"] = \"NEG\"\n",
      "<ipython-input-87-6b8a6e58e9eb>:3: SettingWithCopyWarning: \n",
      "A value is trying to be set on a copy of a slice from a DataFrame.\n",
      "Try using .loc[row_indexer,col_indexer] = value instead\n",
      "\n",
      "See the caveats in the documentation: https://pandas.pydata.org/pandas-docs/stable/user_guide/indexing.html#returning-a-view-versus-a-copy\n",
      "  pos[\"sentiment\"] = \"POS\"\n"
     ]
    }
   ],
   "source": [
    "#Agrego la columna con el sentimiento\n",
    "neg[\"sentiment\"] = \"NEG\"\n",
    "pos[\"sentiment\"] = \"POS\""
   ]
  },
  {
   "cell_type": "code",
   "execution_count": 88,
   "metadata": {},
   "outputs": [
    {
     "data": {
      "text/html": [
       "<div>\n",
       "<style scoped>\n",
       "    .dataframe tbody tr th:only-of-type {\n",
       "        vertical-align: middle;\n",
       "    }\n",
       "\n",
       "    .dataframe tbody tr th {\n",
       "        vertical-align: top;\n",
       "    }\n",
       "\n",
       "    .dataframe thead th {\n",
       "        text-align: right;\n",
       "    }\n",
       "</style>\n",
       "<table border=\"1\" class=\"dataframe\">\n",
       "  <thead>\n",
       "    <tr style=\"text-align: right;\">\n",
       "      <th></th>\n",
       "      <th>review_id</th>\n",
       "      <th>product_id</th>\n",
       "      <th>reviewer_id</th>\n",
       "      <th>stars</th>\n",
       "      <th>review_body</th>\n",
       "      <th>review_title</th>\n",
       "      <th>language</th>\n",
       "      <th>product_category</th>\n",
       "      <th>review</th>\n",
       "      <th>sentiment</th>\n",
       "    </tr>\n",
       "  </thead>\n",
       "  <tbody>\n",
       "    <tr>\n",
       "      <th>56200</th>\n",
       "      <td>es_0779700</td>\n",
       "      <td>product_es_0786159</td>\n",
       "      <td>reviewer_es_0674162</td>\n",
       "      <td>2</td>\n",
       "      <td>Al estos auriculares la batería le dura entre ...</td>\n",
       "      <td>Poca batería</td>\n",
       "      <td>es</td>\n",
       "      <td>electronics</td>\n",
       "      <td>Poca batería Al estos auriculares la batería l...</td>\n",
       "      <td>NEG</td>\n",
       "    </tr>\n",
       "    <tr>\n",
       "      <th>148742</th>\n",
       "      <td>es_0244290</td>\n",
       "      <td>product_es_0807869</td>\n",
       "      <td>reviewer_es_0613542</td>\n",
       "      <td>4</td>\n",
       "      <td>Para el dia a dia, de traqueteo, y si no le ex...</td>\n",
       "      <td>Muy buena relacion calidad/precio</td>\n",
       "      <td>es</td>\n",
       "      <td>electronics</td>\n",
       "      <td>Muy buena relacion calidad/precio Para el dia ...</td>\n",
       "      <td>POS</td>\n",
       "    </tr>\n",
       "    <tr>\n",
       "      <th>156051</th>\n",
       "      <td>es_0958642</td>\n",
       "      <td>product_es_0741074</td>\n",
       "      <td>reviewer_es_0798829</td>\n",
       "      <td>4</td>\n",
       "      <td>Cumple con la función de lubricar, para el res...</td>\n",
       "      <td>Lubricante</td>\n",
       "      <td>es</td>\n",
       "      <td>drugstore</td>\n",
       "      <td>Lubricante Cumple con la función de lubricar, ...</td>\n",
       "      <td>POS</td>\n",
       "    </tr>\n",
       "    <tr>\n",
       "      <th>49858</th>\n",
       "      <td>es_0863252</td>\n",
       "      <td>product_es_0485307</td>\n",
       "      <td>reviewer_es_0006264</td>\n",
       "      <td>2</td>\n",
       "      <td>Por ese precio no se puede pedir calidad, pero...</td>\n",
       "      <td>Decepción</td>\n",
       "      <td>es</td>\n",
       "      <td>home</td>\n",
       "      <td>Decepción Por ese precio no se puede pedir cal...</td>\n",
       "      <td>NEG</td>\n",
       "    </tr>\n",
       "    <tr>\n",
       "      <th>185422</th>\n",
       "      <td>es_0093003</td>\n",
       "      <td>product_es_0813686</td>\n",
       "      <td>reviewer_es_0318332</td>\n",
       "      <td>5</td>\n",
       "      <td>Cumple perfectamente la función . la unica peg...</td>\n",
       "      <td>Buen producto</td>\n",
       "      <td>es</td>\n",
       "      <td>sports</td>\n",
       "      <td>Buen producto Cumple perfectamente la función ...</td>\n",
       "      <td>POS</td>\n",
       "    </tr>\n",
       "  </tbody>\n",
       "</table>\n",
       "</div>"
      ],
      "text/plain": [
       "         review_id          product_id          reviewer_id  stars  \\\n",
       "56200   es_0779700  product_es_0786159  reviewer_es_0674162      2   \n",
       "148742  es_0244290  product_es_0807869  reviewer_es_0613542      4   \n",
       "156051  es_0958642  product_es_0741074  reviewer_es_0798829      4   \n",
       "49858   es_0863252  product_es_0485307  reviewer_es_0006264      2   \n",
       "185422  es_0093003  product_es_0813686  reviewer_es_0318332      5   \n",
       "\n",
       "                                              review_body  \\\n",
       "56200   Al estos auriculares la batería le dura entre ...   \n",
       "148742  Para el dia a dia, de traqueteo, y si no le ex...   \n",
       "156051  Cumple con la función de lubricar, para el res...   \n",
       "49858   Por ese precio no se puede pedir calidad, pero...   \n",
       "185422  Cumple perfectamente la función . la unica peg...   \n",
       "\n",
       "                             review_title language product_category  \\\n",
       "56200                        Poca batería       es      electronics   \n",
       "148742  Muy buena relacion calidad/precio       es      electronics   \n",
       "156051                         Lubricante       es        drugstore   \n",
       "49858                           Decepción       es             home   \n",
       "185422                      Buen producto       es           sports   \n",
       "\n",
       "                                                   review sentiment  \n",
       "56200   Poca batería Al estos auriculares la batería l...       NEG  \n",
       "148742  Muy buena relacion calidad/precio Para el dia ...       POS  \n",
       "156051  Lubricante Cumple con la función de lubricar, ...       POS  \n",
       "49858   Decepción Por ese precio no se puede pedir cal...       NEG  \n",
       "185422  Buen producto Cumple perfectamente la función ...       POS  "
      ]
     },
     "execution_count": 88,
     "metadata": {},
     "output_type": "execute_result"
    }
   ],
   "source": [
    "#genero el nuevo set\n",
    "train_bi = pd.concat([pos, neg])\n",
    "train_bi.sample(5)"
   ]
  },
  {
   "cell_type": "code",
   "execution_count": 89,
   "metadata": {},
   "outputs": [
    {
     "data": {
      "text/html": [
       "<div>\n",
       "<style scoped>\n",
       "    .dataframe tbody tr th:only-of-type {\n",
       "        vertical-align: middle;\n",
       "    }\n",
       "\n",
       "    .dataframe tbody tr th {\n",
       "        vertical-align: top;\n",
       "    }\n",
       "\n",
       "    .dataframe thead th {\n",
       "        text-align: right;\n",
       "    }\n",
       "</style>\n",
       "<table border=\"1\" class=\"dataframe\">\n",
       "  <thead>\n",
       "    <tr style=\"text-align: right;\">\n",
       "      <th></th>\n",
       "      <th>review</th>\n",
       "      <th>sentiment</th>\n",
       "    </tr>\n",
       "  </thead>\n",
       "  <tbody>\n",
       "    <tr>\n",
       "      <th>17292</th>\n",
       "      <td>Ha llegado roto Me parece que cuando se compra...</td>\n",
       "      <td>NEG</td>\n",
       "    </tr>\n",
       "    <tr>\n",
       "      <th>45865</th>\n",
       "      <td>No mantiene el calor No está mal,pero no manti...</td>\n",
       "      <td>NEG</td>\n",
       "    </tr>\n",
       "    <tr>\n",
       "      <th>176744</th>\n",
       "      <td>Buen producto Muy contento con los recambios. ...</td>\n",
       "      <td>POS</td>\n",
       "    </tr>\n",
       "    <tr>\n",
       "      <th>66532</th>\n",
       "      <td>Calidad precio normalita Acorde con el precio....</td>\n",
       "      <td>NEG</td>\n",
       "    </tr>\n",
       "    <tr>\n",
       "      <th>179654</th>\n",
       "      <td>Para 1/2 personas Suficiente capacidad para fr...</td>\n",
       "      <td>POS</td>\n",
       "    </tr>\n",
       "  </tbody>\n",
       "</table>\n",
       "</div>"
      ],
      "text/plain": [
       "                                                   review sentiment\n",
       "17292   Ha llegado roto Me parece que cuando se compra...       NEG\n",
       "45865   No mantiene el calor No está mal,pero no manti...       NEG\n",
       "176744  Buen producto Muy contento con los recambios. ...       POS\n",
       "66532   Calidad precio normalita Acorde con el precio....       NEG\n",
       "179654  Para 1/2 personas Suficiente capacidad para fr...       POS"
      ]
     },
     "execution_count": 89,
     "metadata": {},
     "output_type": "execute_result"
    }
   ],
   "source": [
    "bi_train = train_bi[[\"review\",\"sentiment\"]]\n",
    "bi_train.sample(5)"
   ]
  },
  {
   "cell_type": "code",
   "execution_count": 103,
   "metadata": {},
   "outputs": [],
   "source": [
    "#Adapto la funcion de cargar data al nuevo set\n",
    "\n",
    "def load_data(limit=0, split=0.75):\n",
    "    sentiment = pd.get_dummies(bi_train.sentiment) \n",
    "    cats_dict = sentiment.to_dict(orient='records') #Reordeno el set\n",
    "    cats_dict = [{str(key) : val for key, val in sub.items()} #SpaCy necesita que la etiqueta sea un string\n",
    "               for sub in cats_dict] \n",
    "    train_data = list(zip(bi_train.review,[{'cats': cats} for cats in cats_dict]))\n",
    "    \n",
    "    # Mezclar la data\n",
    "    random.shuffle(train_data)\n",
    "    if limit:\n",
    "        train_data = train_data[:limit]\n",
    "    texts, labels = zip(*train_data)\n",
    "    \n",
    "    # Separando la data en entrenamiento y test\n",
    "    split = int(len(train_data) * split)\n",
    "    return (texts[:split], labels[:split]), (texts[split:], labels[split:])"
   ]
  },
  {
   "cell_type": "code",
   "execution_count": 92,
   "metadata": {},
   "outputs": [],
   "source": [
    "#Instancio un nuevo objeto de SpaCy\n",
    "nlp_bi = spacy.load(\"es_core_news_md\")"
   ]
  },
  {
   "cell_type": "code",
   "execution_count": 94,
   "metadata": {},
   "outputs": [
    {
     "data": {
      "text/plain": [
       "['tagger', 'parser', 'ner']"
      ]
     },
     "execution_count": 94,
     "metadata": {},
     "output_type": "execute_result"
    }
   ],
   "source": [
    "#Chequeo qué elementos tiene en el pipeline\n",
    "nlp_bi.pipe_names"
   ]
  },
  {
   "cell_type": "code",
   "execution_count": 95,
   "metadata": {},
   "outputs": [
    {
     "data": {
      "text/plain": [
       "['tagger', 'parser', 'ner', 'textcat']"
      ]
     },
     "execution_count": 95,
     "metadata": {},
     "output_type": "execute_result"
    }
   ],
   "source": [
    "#Instancio el categorizador\n",
    "textcat = nlp_bi.create_pipe( \"textcat\", config={\"exclusive_classes\": True, \"architecture\": \"simple_cnn\"})\n",
    "#Lo agrego al pipeline\n",
    "nlp_bi.add_pipe(textcat, last=True)\n",
    "#Confirmo que se haya creado correctamente\n",
    "nlp_bi.pipe_names"
   ]
  },
  {
   "cell_type": "code",
   "execution_count": 96,
   "metadata": {},
   "outputs": [
    {
     "data": {
      "text/plain": [
       "[1, 1]"
      ]
     },
     "execution_count": 96,
     "metadata": {},
     "output_type": "execute_result"
    }
   ],
   "source": [
    "#Agrego las etiquetas que voy a querer que evalúe el modelo\n",
    "textcat_labels = [\"NEG\",\"POS\"]\n",
    "[textcat.add_label(label) for label in textcat_labels]"
   ]
  },
  {
   "cell_type": "code",
   "execution_count": 107,
   "metadata": {},
   "outputs": [
    {
     "data": {
      "text/plain": [
       "[('Mala Compra No me gustó nada el material. Incómodo de montar y de plegar',\n",
       "  {'cats': {'NEG': 1, 'POS': 0}}),\n",
       " ('Bien Son perfectas ligeras y muy comodas', {'cats': {'NEG': 0, 'POS': 1}}),\n",
       " ('Bomba insuficiente La bomba bien, justo lo que describía, pero no tenía la potencia que yo estaba buscando, la devolví sin problemas.',\n",
       "  {'cats': {'NEG': 1, 'POS': 0}}),\n",
       " ('Menos práctico de lo que pensaba! Había escogido este producto porque pensaba que iba a ser más práctico y más ligero que otro producto similar que no sea escoba. Pero al final siempre mueves 6kg y te duele el brazo y la espalda. También la cabeza es muy grande y no se puede limpiar por todas las esquinas. Si no aspira antes de usar la vapor, deja trazas negras de pelusas. Y para terminar, el motor de la aspiradora escupe el aire y sopla las pelusas que todavía no has aspirado. Lo positivo de este producto es su rapidez de calentamiento y su potencia por ser un aspirador vapor escoba.',\n",
       "  {'cats': {'NEG': 1, 'POS': 0}}),\n",
       " ('Herramienta indispensable para la furgo! Lo tengo en la furgo, en la puerta de la conductora y va genial! Cuando estamos de camping lo usamos para todo (abridor, cuchillo, etc) y en un apuro y en caso de necesitar algún destornillador, lleva un montón de cabezales, así que seguro que nos sacará de más de un apuro, de momento la opción de destornillador no la he tenido que usar (la he probado y va genial, pero no he necesitado usarla en la vida real, que digamos XD). De momento va genial todo, solo el tiempo dirá si es duradera en el tiempo! :P Si no edito esto es que sigue funcionado perfecto 10/10',\n",
       "  {'cats': {'NEG': 0, 'POS': 1}}),\n",
       " ('Muy bueno Calidad precio genial y buena atención muy buen vendedor, estoy bastante contenta con el teléfono funciona bien y sin problemas',\n",
       "  {'cats': {'NEG': 0, 'POS': 1}}),\n",
       " ('Breve tiempo en funcionamiento Humidificador con luz cambiante que hace bastante ruido y se desconecta en tiempo breve',\n",
       "  {'cats': {'NEG': 1, 'POS': 0}}),\n",
       " ('El envío en un día La cera no es de buena calidad, y aún poniendo el papel te deja restos de cera, y el pelo sale la mitad.',\n",
       "  {'cats': {'NEG': 1, 'POS': 0}}),\n",
       " ('pasable Quizas un poco caro para la calidad',\n",
       "  {'cats': {'NEG': 0, 'POS': 1}}),\n",
       " ('Baja calidad del producto Tras 9 meses de uso, la correa se ha roto. A los 4 meses se rompió el recogedor de la correa y ahora se rompe el esto de la correa. No lo recomendaría',\n",
       "  {'cats': {'NEG': 1, 'POS': 0}})]"
      ]
     },
     "execution_count": 107,
     "metadata": {},
     "output_type": "execute_result"
    }
   ],
   "source": [
    "#Llamo a la función que prepara los datos \n",
    "#Si bien en el set original tengo 160.000 datos los voy a limitar a 20.000 por cuestiones de memoria\n",
    "\n",
    "n_limit = 20000\n",
    "(train_texts, train_cats), (dev_texts, dev_cats) = load_data(limit=n_limit)\n",
    "\n",
    "# Le doy a la data de entrenamiento el formato final\n",
    "train_data = list(zip(train_texts,train_cats))\n",
    "train_data[:10]"
   ]
  },
  {
   "cell_type": "markdown",
   "metadata": {},
   "source": [
    "Todo listo para entrenar este modelo."
   ]
  },
  {
   "cell_type": "code",
   "execution_count": 108,
   "metadata": {},
   "outputs": [],
   "source": [
    "#La cantidad de iteraciones o épocas que va a tener mi entrenamiento\n",
    "n_iter=5"
   ]
  },
  {
   "cell_type": "code",
   "execution_count": 109,
   "metadata": {},
   "outputs": [
    {
     "name": "stdout",
     "output_type": "stream",
     "text": [
      "Entrenando el modelo...\n",
      "LOSS \tACCURACY\n",
      "7.041\t0.914\n",
      "5.307\t0.921\n",
      "4.144\t0.918\n",
      "3.339\t0.917\n",
      "2.661\t0.923\n"
     ]
    }
   ],
   "source": [
    "#Entreno binario\n",
    "other_pipes = [pipe for pipe in nlp_bi.pipe_names if pipe != 'textcat'] \n",
    "with nlp_bi.disable_pipes(*other_pipes):  # me aseguro de solo entrenar texcat\n",
    "    \n",
    "    optimizer = nlp_bi.begin_training()\n",
    "\n",
    "    print(\"Entrenando el modelo...\")\n",
    "    print('{:^5}\\t{:^5}'.format('LOSS', 'ACCURACY'))\n",
    "\n",
    "    # Realizar el entrenamiento\n",
    "    for i in range(n_iter):\n",
    "        losses = {}\n",
    "        batches = minibatch(train_data, size=compounding(4., 32., 1.001)) #separa la data en lotes\n",
    "        for batch in batches:\n",
    "            texts, annotations = zip(*batch)\n",
    "            nlp_bi.update(texts, annotations, sgd=optimizer, drop=0.2,\n",
    "                       losses=losses)\n",
    "\n",
    "      # Llama a la función de evaluación e imprime los resultados\n",
    "        with textcat.model.use_params(optimizer.averages):\n",
    "            scores = evaluate(nlp_bi.tokenizer, textcat, dev_texts, dev_cats)\n",
    "        print('{0:.3f}\\t{1:.3f}'  \n",
    "              .format(losses['textcat'], scores['textcat_a']))"
   ]
  },
  {
   "cell_type": "markdown",
   "metadata": {},
   "source": [
    "Tal como ocurrió en el benchmark, el resultado al convertir el problema en una clasificacion binaria es muy superior, con un 92% de aciertos. Además, queda en evidencia que la pérdida comienza en un umbral mucho más bajo que en el multiclase: pasa de 28 a 7. Queda en claro que este tipo de algoritmo funciona casi sin modificaciones de manera **prácticamente perfecta** cuando el problema es **binario**."
   ]
  },
  {
   "cell_type": "markdown",
   "metadata": {},
   "source": [
    "Nuevamente, para ver qué tan bien funciona este modelo y poder graficar una matriz de confusión, voy a generar un nuevo dataset con datos de testeo completamente nuevos."
   ]
  },
  {
   "cell_type": "code",
   "execution_count": 115,
   "metadata": {},
   "outputs": [],
   "source": [
    "neg = df_test[(df_test.stars == 1)|(df_test.stars == 2)]\n",
    "pos = df_test[(df_test.stars == 4)|(df_test.stars == 5)]"
   ]
  },
  {
   "cell_type": "code",
   "execution_count": 116,
   "metadata": {},
   "outputs": [
    {
     "name": "stderr",
     "output_type": "stream",
     "text": [
      "<ipython-input-116-6b8a6e58e9eb>:2: SettingWithCopyWarning: \n",
      "A value is trying to be set on a copy of a slice from a DataFrame.\n",
      "Try using .loc[row_indexer,col_indexer] = value instead\n",
      "\n",
      "See the caveats in the documentation: https://pandas.pydata.org/pandas-docs/stable/user_guide/indexing.html#returning-a-view-versus-a-copy\n",
      "  neg[\"sentiment\"] = \"NEG\"\n",
      "<ipython-input-116-6b8a6e58e9eb>:3: SettingWithCopyWarning: \n",
      "A value is trying to be set on a copy of a slice from a DataFrame.\n",
      "Try using .loc[row_indexer,col_indexer] = value instead\n",
      "\n",
      "See the caveats in the documentation: https://pandas.pydata.org/pandas-docs/stable/user_guide/indexing.html#returning-a-view-versus-a-copy\n",
      "  pos[\"sentiment\"] = \"POS\"\n"
     ]
    }
   ],
   "source": [
    "#Agrego la columna con el sentimiento\n",
    "neg[\"sentiment\"] = \"NEG\"\n",
    "pos[\"sentiment\"] = \"POS\""
   ]
  },
  {
   "cell_type": "code",
   "execution_count": 117,
   "metadata": {},
   "outputs": [
    {
     "data": {
      "text/html": [
       "<div>\n",
       "<style scoped>\n",
       "    .dataframe tbody tr th:only-of-type {\n",
       "        vertical-align: middle;\n",
       "    }\n",
       "\n",
       "    .dataframe tbody tr th {\n",
       "        vertical-align: top;\n",
       "    }\n",
       "\n",
       "    .dataframe thead th {\n",
       "        text-align: right;\n",
       "    }\n",
       "</style>\n",
       "<table border=\"1\" class=\"dataframe\">\n",
       "  <thead>\n",
       "    <tr style=\"text-align: right;\">\n",
       "      <th></th>\n",
       "      <th>review_id</th>\n",
       "      <th>product_id</th>\n",
       "      <th>reviewer_id</th>\n",
       "      <th>stars</th>\n",
       "      <th>review_body</th>\n",
       "      <th>review_title</th>\n",
       "      <th>language</th>\n",
       "      <th>product_category</th>\n",
       "      <th>review</th>\n",
       "      <th>sentiment</th>\n",
       "    </tr>\n",
       "  </thead>\n",
       "  <tbody>\n",
       "    <tr>\n",
       "      <th>1528</th>\n",
       "      <td>es_0510120</td>\n",
       "      <td>product_es_0758565</td>\n",
       "      <td>reviewer_es_0022022</td>\n",
       "      <td>2</td>\n",
       "      <td>Lo tuvimos q devolver pq no funcionaba. Sin ni...</td>\n",
       "      <td>..</td>\n",
       "      <td>es</td>\n",
       "      <td>automotive</td>\n",
       "      <td>.. Lo tuvimos q devolver pq no funcionaba. Sin...</td>\n",
       "      <td>NEG</td>\n",
       "    </tr>\n",
       "    <tr>\n",
       "      <th>528</th>\n",
       "      <td>es_0713495</td>\n",
       "      <td>product_es_0783031</td>\n",
       "      <td>reviewer_es_0406157</td>\n",
       "      <td>1</td>\n",
       "      <td>Lo tuve que devolver porque no se escuchaba nada</td>\n",
       "      <td>En devolución</td>\n",
       "      <td>es</td>\n",
       "      <td>electronics</td>\n",
       "      <td>En devolución Lo tuve que devolver porque no s...</td>\n",
       "      <td>NEG</td>\n",
       "    </tr>\n",
       "    <tr>\n",
       "      <th>4807</th>\n",
       "      <td>es_0989940</td>\n",
       "      <td>product_es_0895514</td>\n",
       "      <td>reviewer_es_0946603</td>\n",
       "      <td>5</td>\n",
       "      <td>Estaba buscando un micrófono bueno y a buen pr...</td>\n",
       "      <td>Buen micrófono</td>\n",
       "      <td>es</td>\n",
       "      <td>camera</td>\n",
       "      <td>Buen micrófono Estaba buscando un micrófono bu...</td>\n",
       "      <td>POS</td>\n",
       "    </tr>\n",
       "    <tr>\n",
       "      <th>658</th>\n",
       "      <td>es_0051268</td>\n",
       "      <td>product_es_0071005</td>\n",
       "      <td>reviewer_es_0944454</td>\n",
       "      <td>1</td>\n",
       "      <td>Solo ha llegado una de las cometas, una decepción</td>\n",
       "      <td>Falta la cometa pulpo</td>\n",
       "      <td>es</td>\n",
       "      <td>toy</td>\n",
       "      <td>Falta la cometa pulpo Solo ha llegado una de l...</td>\n",
       "      <td>NEG</td>\n",
       "    </tr>\n",
       "    <tr>\n",
       "      <th>3712</th>\n",
       "      <td>es_0254827</td>\n",
       "      <td>product_es_0949774</td>\n",
       "      <td>reviewer_es_0473627</td>\n",
       "      <td>4</td>\n",
       "      <td>La funda correcta el protector no cubre toda l...</td>\n",
       "      <td>Es correcta y cumple su función</td>\n",
       "      <td>es</td>\n",
       "      <td>wireless</td>\n",
       "      <td>Es correcta y cumple su función La funda corre...</td>\n",
       "      <td>POS</td>\n",
       "    </tr>\n",
       "  </tbody>\n",
       "</table>\n",
       "</div>"
      ],
      "text/plain": [
       "       review_id          product_id          reviewer_id  stars  \\\n",
       "1528  es_0510120  product_es_0758565  reviewer_es_0022022      2   \n",
       "528   es_0713495  product_es_0783031  reviewer_es_0406157      1   \n",
       "4807  es_0989940  product_es_0895514  reviewer_es_0946603      5   \n",
       "658   es_0051268  product_es_0071005  reviewer_es_0944454      1   \n",
       "3712  es_0254827  product_es_0949774  reviewer_es_0473627      4   \n",
       "\n",
       "                                            review_body  \\\n",
       "1528  Lo tuvimos q devolver pq no funcionaba. Sin ni...   \n",
       "528    Lo tuve que devolver porque no se escuchaba nada   \n",
       "4807  Estaba buscando un micrófono bueno y a buen pr...   \n",
       "658   Solo ha llegado una de las cometas, una decepción   \n",
       "3712  La funda correcta el protector no cubre toda l...   \n",
       "\n",
       "                         review_title language product_category  \\\n",
       "1528                               ..       es       automotive   \n",
       "528                     En devolución       es      electronics   \n",
       "4807                   Buen micrófono       es           camera   \n",
       "658             Falta la cometa pulpo       es              toy   \n",
       "3712  Es correcta y cumple su función       es         wireless   \n",
       "\n",
       "                                                 review sentiment  \n",
       "1528  .. Lo tuvimos q devolver pq no funcionaba. Sin...       NEG  \n",
       "528   En devolución Lo tuve que devolver porque no s...       NEG  \n",
       "4807  Buen micrófono Estaba buscando un micrófono bu...       POS  \n",
       "658   Falta la cometa pulpo Solo ha llegado una de l...       NEG  \n",
       "3712  Es correcta y cumple su función La funda corre...       POS  "
      ]
     },
     "execution_count": 117,
     "metadata": {},
     "output_type": "execute_result"
    }
   ],
   "source": [
    "#genero el nuevo set\n",
    "test_bi = pd.concat([pos, neg])\n",
    "test_bi.sample(5)"
   ]
  },
  {
   "cell_type": "code",
   "execution_count": 118,
   "metadata": {},
   "outputs": [
    {
     "data": {
      "text/html": [
       "<div>\n",
       "<style scoped>\n",
       "    .dataframe tbody tr th:only-of-type {\n",
       "        vertical-align: middle;\n",
       "    }\n",
       "\n",
       "    .dataframe tbody tr th {\n",
       "        vertical-align: top;\n",
       "    }\n",
       "\n",
       "    .dataframe thead th {\n",
       "        text-align: right;\n",
       "    }\n",
       "</style>\n",
       "<table border=\"1\" class=\"dataframe\">\n",
       "  <thead>\n",
       "    <tr style=\"text-align: right;\">\n",
       "      <th></th>\n",
       "      <th>review</th>\n",
       "      <th>sentiment</th>\n",
       "    </tr>\n",
       "  </thead>\n",
       "  <tbody>\n",
       "    <tr>\n",
       "      <th>4497</th>\n",
       "      <td>Okk Perfecto, el dosificador se puede sacar, e...</td>\n",
       "      <td>POS</td>\n",
       "    </tr>\n",
       "    <tr>\n",
       "      <th>4445</th>\n",
       "      <td>caballito balancin es de un tamaño ideal para ...</td>\n",
       "      <td>POS</td>\n",
       "    </tr>\n",
       "    <tr>\n",
       "      <th>3441</th>\n",
       "      <td>Ideal para lo que es Es una caja con muchas cl...</td>\n",
       "      <td>POS</td>\n",
       "    </tr>\n",
       "    <tr>\n",
       "      <th>3501</th>\n",
       "      <td>Util Me gusta mucho. Fácil la sincronización. ...</td>\n",
       "      <td>POS</td>\n",
       "    </tr>\n",
       "    <tr>\n",
       "      <th>4767</th>\n",
       "      <td>Buenas gafas para aguas abiertas Las compré pa...</td>\n",
       "      <td>POS</td>\n",
       "    </tr>\n",
       "    <tr>\n",
       "      <th>328</th>\n",
       "      <td>Malisimo Venia roto es de muy mala calidad</td>\n",
       "      <td>NEG</td>\n",
       "    </tr>\n",
       "    <tr>\n",
       "      <th>1098</th>\n",
       "      <td>todo metálico No me gusta,. La zona para coloc...</td>\n",
       "      <td>NEG</td>\n",
       "    </tr>\n",
       "    <tr>\n",
       "      <th>3769</th>\n",
       "      <td>Funcionalidad y natural Perfecto y protege , l...</td>\n",
       "      <td>POS</td>\n",
       "    </tr>\n",
       "    <tr>\n",
       "      <th>3302</th>\n",
       "      <td>Aceptable Cumple mis expectativas El problema ...</td>\n",
       "      <td>POS</td>\n",
       "    </tr>\n",
       "    <tr>\n",
       "      <th>4410</th>\n",
       "      <td>Pesa poco, pliega facil, es de plastico. La me...</td>\n",
       "      <td>POS</td>\n",
       "    </tr>\n",
       "  </tbody>\n",
       "</table>\n",
       "</div>"
      ],
      "text/plain": [
       "                                                 review sentiment\n",
       "4497  Okk Perfecto, el dosificador se puede sacar, e...       POS\n",
       "4445  caballito balancin es de un tamaño ideal para ...       POS\n",
       "3441  Ideal para lo que es Es una caja con muchas cl...       POS\n",
       "3501  Util Me gusta mucho. Fácil la sincronización. ...       POS\n",
       "4767  Buenas gafas para aguas abiertas Las compré pa...       POS\n",
       "328          Malisimo Venia roto es de muy mala calidad       NEG\n",
       "1098  todo metálico No me gusta,. La zona para coloc...       NEG\n",
       "3769  Funcionalidad y natural Perfecto y protege , l...       POS\n",
       "3302  Aceptable Cumple mis expectativas El problema ...       POS\n",
       "4410  Pesa poco, pliega facil, es de plastico. La me...       POS"
      ]
     },
     "execution_count": 118,
     "metadata": {},
     "output_type": "execute_result"
    }
   ],
   "source": [
    "#Voy a generar una muestra de 1500 reviews aleatorias para usar como test\n",
    "test = test_bi[[\"review\",\"sentiment\"]].sample(1500)\n",
    "test[:10]"
   ]
  },
  {
   "cell_type": "code",
   "execution_count": 120,
   "metadata": {},
   "outputs": [],
   "source": [
    "# Genero un loop para obtener una lista con las predicciones\n",
    "pred = []\n",
    "for rev in test.review:\n",
    "    doc = nlp_bi(rev)\n",
    "    valor = max(doc.cats, key=lambda key: doc.cats[key])\n",
    "    pred.append(valor)"
   ]
  },
  {
   "cell_type": "code",
   "execution_count": 122,
   "metadata": {},
   "outputs": [
    {
     "name": "stdout",
     "output_type": "stream",
     "text": [
      "              precision    recall  f1-score   support\n",
      "\n",
      "         NEG       0.88      0.95      0.91       767\n",
      "         POS       0.94      0.86      0.90       733\n",
      "\n",
      "    accuracy                           0.91      1500\n",
      "   macro avg       0.91      0.91      0.91      1500\n",
      "weighted avg       0.91      0.91      0.91      1500\n",
      "\n"
     ]
    }
   ],
   "source": [
    "#Veamos los scores de este modelo\n",
    "print(classification_report(test.sentiment, pred))"
   ]
  },
  {
   "cell_type": "markdown",
   "metadata": {},
   "source": [
    "Queda claro que el modelo **mejoró muchísimo** al convertirse en un problema binario, e incluso están bastante equilibradas las métricas de precision (la cantidad de casos verdaderos positivos sobre la cantidad total de todo lo que predijo como positivo) y recall (la cantidad de casos clasificados como verdaderos positivos sobre todo lo que realmente es positivo)."
   ]
  },
  {
   "cell_type": "markdown",
   "metadata": {},
   "source": [
    "Demos paso a la **Matriz de confusión**."
   ]
  },
  {
   "cell_type": "code",
   "execution_count": 153,
   "metadata": {},
   "outputs": [
    {
     "data": {
      "image/png": "[encoded data removed]",
      "text/plain": [
       "<Figure size 720x720 with 2 Axes>"
      ]
     },
     "metadata": {},
     "output_type": "display_data"
    }
   ],
   "source": [
    "#Grafico una matriz de confusión\n",
    "from sklearn.metrics import ConfusionMatrixDisplay\n",
    "lab = [\"POS\",\"NEG\"]\n",
    "cm = confusion_matrix(test.sentiment, pred, labels = lab)\n",
    "\n",
    "fig, ax = plt.subplots(figsize=(10, 10))\n",
    "disp = ConfusionMatrixDisplay(confusion_matrix=cm,\n",
    "                              display_labels=lab)\n",
    "disp = disp.plot(include_values=True,\n",
    "                 cmap=\"viridis\", ax=ax)\n",
    "plt.grid(False)\n",
    "plt.show()"
   ]
  },
  {
   "cell_type": "markdown",
   "metadata": {},
   "source": [
    "Tal como ocurrió con el algoritmo de scikit-learn, aumenta notablemente la **cantidad de aciertos** en la predicción de etiquetas con este formato."
   ]
  },
  {
   "cell_type": "markdown",
   "metadata": {},
   "source": [
    "Otra vez, una de las características más interesantes de SpaCy es la de poder ingresarle un texto y que realice el proceso en el pipeline sin necesidad de vectorizarlo antes. Dos ejemplos:"
   ]
  },
  {
   "cell_type": "code",
   "execution_count": 167,
   "metadata": {},
   "outputs": [
    {
     "name": "stdout",
     "output_type": "stream",
     "text": [
      "Calificación obtenida: POS\n"
     ]
    }
   ],
   "source": [
    "calif_prueba = \"Muy buen producto, estoy muy contenco con la compra.\"\n",
    "doc = nlp_bi(calif_prueba)\n",
    "valor = max(doc.cats, key=lambda key: doc.cats[key])\n",
    "print(\"Calificación obtenida: \"+str(valor))"
   ]
  },
  {
   "cell_type": "code",
   "execution_count": 168,
   "metadata": {},
   "outputs": [
    {
     "name": "stdout",
     "output_type": "stream",
     "text": [
      "Calificación obtenida: NEG\n"
     ]
    }
   ],
   "source": [
    "calif_prueba = \"El producto llegó bien, pero no es el color que quería ni tiene un buen acabado. No lo recomiendo.\"\n",
    "doc = nlp_bi(calif_prueba)\n",
    "valor = max(doc.cats, key=lambda key: doc.cats[key])\n",
    "print(\"Calificación obtenida: \"+str(valor))"
   ]
  },
  {
   "cell_type": "markdown",
   "metadata": {},
   "source": [
    "# Conclusiones"
   ]
  },
  {
   "cell_type": "markdown",
   "metadata": {},
   "source": [
    "Si bien utilizando SpaCy no se logró mejorar las métricas de accuracy del sprint anterior, la librería deja en claro que es **muy útil y práctica**, en especial al no perder interpretabilidad: poder ingresarle un texto y que realice la categorización sin mayor preparación es fundamental para entender el proceso. \n",
    "\n",
    "Queda en claro que la **clasificación multiclase** es un punto **débil** del NLP, al menos en esta instancia. Quedará para un hipotético próximo sprint ver si mejora la calificación al entrenar más épocas, pero por la cantidad de procesamiento que requiere esta tarea se necesita un equipo más potente, como un GPU dedicado, y por ahora no está a mi alcance. También queda ver si **probando con BERT** (Bidirectional Encoder Representations from Transformers), uno de los algoritmos que utiliza Google para NLP, que también puede usarse con SpaCy, mejora esta clasificación. \n",
    "\n",
    "A título personal, la experiencia adquirida con estas técnicas y metodologías es **más que positiva**, especialmente haber aprendido el manejo de datos con Pandas, el uso de Python, y las herramientas de NLP, que ya estoy empleando en mi labor profesional y que espero seguir desarrollando y aprendiendo a futuro.\n",
    "\n",
    "[Link a Github](https://github.com/elcarpogh/NLP_TP_Final)"
   ]
  },
  {
   "cell_type": "code",
   "execution_count": null,
   "metadata": {},
   "outputs": [],
   "source": []
  }
 ],
 "metadata": {
  "kernelspec": {
   "display_name": "Python 3",
   "language": "python",
   "name": "python3"
  },
  "language_info": {
   "codemirror_mode": {
    "name": "ipython",
    "version": 3
   },
   "file_extension": ".py",
   "mimetype": "text/x-python",
   "name": "python",
   "nbconvert_exporter": "python",
   "pygments_lexer": "ipython3",
   "version": "3.8.5"
  }
 },
 "nbformat": 4,
 "nbformat_minor": 4
}
