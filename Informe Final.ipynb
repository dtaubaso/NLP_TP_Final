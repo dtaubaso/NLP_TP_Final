{
 "cells": [
  {
   "cell_type": "markdown",
   "metadata": {},
   "source": [
    "# Informe final\n",
    "\n",
    "### Consigna\n",
    "\n",
    "Te presentamos los pasos a seguir para realizar el proyecto 04.\n",
    "\n",
    "1. **Elige tu punto de partida entre dos opciones**:\n",
    "\n",
    "    + Tus Proyectos 01 y 02\n",
    "\n",
    "    + Tu Proyecto 03\n",
    "    \n",
    "    Si corresponde, emprolija lo hecho hasta el momento, incorporando las correcciones y/o sugerencias que hayas recibido de tu(s) evaluador/a (es/as).\n",
    "\n",
    "2. **Formula una nueva pregunta, problema o desafío para explorar**. \n",
    "\n",
    "3. **Prueba un modelo de Machine Learning nuevo que no hayas visto en la carrera**. En ese caso, debes explicar su funcionamiento y por qué consideras apropiado aplicarlo. La ganancia no necesariamente tiene que ser en desempeño, también puede ser en interpretabilidad o aplicabilidad.\n",
    "\n",
    "4. **Agrega al proyecto información de otra fuente**. ¡Es sumamente válido! En ese caso, debe estar claramente explicado cómo conseguiste esos datos y qué usos esperas darles. Los datos deben ser accesibles por tu evaluador/a (por ejemplo, puedes subirlos al repositorio). Presta atención a la sensibilidad y privacidad de los datos antes de compartirlos.\n",
    "\n",
    "5. **Continúa el Análisis Exploratorio de Datos**. Recuerda que es tan importante como entrenar un modelo de Machine Learning.\n",
    "\n",
    "6. **Sigue las sugerencias que te propusimos en los notebooks** para continuar el Proyecto 03.\n",
    "\n",
    "Plantea un objetivo *alcanzable*. En esta etapa de tu formación, es preferible un problema sencillo bien abordado que uno ambicioso que no sabes cómo abordar. El objetivo debe estar correctamente explicitado. Debes explicar qué quieres hacer y qué esperas encontrar. Imagina que es una tarea en tu trabajo y tienes que explicarle a un/a jefe/a qué vas a hacer y por qué."
   ]
  },
  {
   "cell_type": "markdown",
   "metadata": {},
   "source": [
    "## NLP - Análisis de sentimiento con SpaCy\n",
    "\n",
    "En este Informe Final voy a utilizar SpaCy para entrenar un modelo que pueda acertar si un texto tiene un sentimiento positivo o negativo. La elección de SpaCy se basa en que es una de las más completas librerías para NLP en español, que además incorpora su propio algoritmo de clasificación de texto.\n",
    "\n",
    "### Pasos a seguir\n",
    "\n",
    "El trabajo se va a dividir en cuatro grandes bloques:\n",
    "\n",
    "   1. **Exploración y transformación del dataset**. En este paso se importará el dataset como un dataframe de Pandas y se verán las características generales del mismo, además de agregar nuevas features si fuese necesario.\n",
    "    \n",
    "    \n",
    "   2. **Normalización y tokenización**. La tokenización es el proceso de dividir trozos de texto en partes más pequeñas. En este paso se simplificará al dataset, convirtiendolo en una \"bolsa de palabras\", extrayendo las raíces de cada palabra si fuera posible y eliminando las que no aportan mayor información.\n",
    "   \n",
    "    \n",
    "   3. **Vectorización**. La vectorización es un proceso que transforma un token en un vector, o una matriz numérica que es única y representa varias características de un token. Los vectores se utilizan para encontrar similitudes entre palabras, clasificar textos y realizar otras operaciones de NLP.\n",
    "   \n",
    "   \n",
    "   4. **Clasificación**. El último paso es entrenar un modelo de clasificación con un algoritmo de Machine Learning. En este caso, usaré los provistos por SpaCy.\n",
    "\n"
   ]
  },
  {
   "cell_type": "markdown",
   "metadata": {},
   "source": [
    "## Exploración del Dataset\n",
    "\n",
    "El primer paso es cargar los sets de datos. Voy a utilizar las Reviews de Amazon del trabajo anterior, que ya están bien curados, "
   ]
  }
 ],
 "metadata": {
  "kernelspec": {
   "display_name": "Python 3",
   "language": "python",
   "name": "python3"
  },
  "language_info": {
   "codemirror_mode": {
    "name": "ipython",
    "version": 3
   },
   "file_extension": ".py",
   "mimetype": "text/x-python",
   "name": "python",
   "nbconvert_exporter": "python",
   "pygments_lexer": "ipython3",
   "version": "3.8.5"
  }
 },
 "nbformat": 4,
 "nbformat_minor": 4
}
